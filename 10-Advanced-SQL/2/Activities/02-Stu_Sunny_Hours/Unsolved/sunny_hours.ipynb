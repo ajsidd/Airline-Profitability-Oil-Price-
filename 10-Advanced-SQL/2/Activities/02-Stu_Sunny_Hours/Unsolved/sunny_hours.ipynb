{
 "cells": [
  {
   "cell_type": "code",
   "execution_count": 1,
   "metadata": {},
   "outputs": [],
   "source": [
    "# Import the dependencies\n",
    "from pathlib import Path\n",
    "from sqlalchemy.ext.declarative import declarative_base\n",
    "from sqlalchemy import Column, String, Float, Integer\n",
    "from sqlalchemy import create_engine\n",
    "from sqlalchemy.orm import Session"
   ]
  },
  {
   "cell_type": "code",
   "execution_count": 2,
   "metadata": {},
   "outputs": [],
   "source": [
    "# Create a base class for declarating class definitions to produce Table objects\n",
    "Base = declarative_base()\n",
    "# Create a reference to the dataset\n",
    "database_path = Path(\"../Resources/sunshine.sqlite\")\n",
    "# Create Database Connection\n",
    "engine = create_engine(f\"sqlite:///{database_path}\")\n",
    "Base.metadata.create_all(engine)"
   ]
  },
  {
   "cell_type": "code",
   "execution_count": 3,
   "metadata": {},
   "outputs": [
    {
     "data": {
      "text/plain": [
       "<sqlalchemy.orm.session.Session at 0x7ff7b2b47790>"
      ]
     },
     "execution_count": 3,
     "metadata": {},
     "output_type": "execute_result"
    }
   ],
   "source": [
    "# Create a Session Object to Connect to DB\n"
   ]
  },
  {
   "cell_type": "code",
   "execution_count": 4,
   "metadata": {},
   "outputs": [],
   "source": [
    "# Create your Sunshine class\n"
   ]
  },
  {
   "cell_type": "code",
   "execution_count": 5,
   "metadata": {},
   "outputs": [],
   "source": [
    "# Create a session query.\n"
   ]
  },
  {
   "cell_type": "code",
   "execution_count": 6,
   "metadata": {},
   "outputs": [
    {
     "name": "stdout",
     "output_type": "stream",
     "text": [
      "0, Afghanistan, Kabul, 177.2, 232.5, 356.8, 282.6, 3175.1\n",
      "1, Albania, Tirana, 124.0, 191.0, 354.0, 218.0, 2544.0\n",
      "2, Algeria, Algiers, 149.0, 258.0, 350.0, 229.0, 2847.0\n",
      "3, Algeria, Tamanrasset, 297.6, 327.0, 356.5, 310.0, 3686.0\n",
      "4, Angola, Luanda, 219.0, 199.0, 175.0, 164.0, 2341.0\n",
      "5, Argentina, Buenos Aires, 279.0, 220.0, 142.6, 227.0, 2525.2\n",
      "6, Argentina, Córdoba, 257.3, 189.0, 170.5, 238.7, 2533.9\n",
      "7, Argentina, La Plata, 251.1, 186.0, 127.1, 207.7, 2283.2\n",
      "8, Argentina, Mendoza, 297.6, 219.0, 182.9, 282.1, 2871.7\n",
      "9, Argentina, Salta, 164.3, 117.0, 173.6, 182.9, 1826.6\n",
      "10, Argentina, Ushuaia, 180.2, 92.7, 35.0, 113.0, 1281.2\n",
      "11, Armenia, Yerevan, 93.0, 177.0, 343.0, 212.0, 2474.0\n",
      "12, Australia, Adelaide, 325.5, 219.0, 148.8, 257.3, 2765.4\n",
      "13, Australia, Alice Springs, 306.0, 285.0, 282.1, 313.1, 3499.1\n",
      "14, Australia, Brisbane, 263.5, 234.0, 238.7, 275.9, 2968.4\n",
      "15, Australia, Canberra, 294.5, 219.0, 179.8, 266.6, 2813.7\n",
      "16, Australia, Darwin, 176.7, 261.0, 313.1, 291.4, 3092.2\n",
      "17, Australia, Hobart, 257.3, 177.0, 151.9, 232.5, 2393.1\n",
      "18, Australia, Melbourne, 266.6, 186.0, 136.4, 223.2, 2362.6\n",
      "19, Australia, Perth, 356.5, 246.0, 188.4, 299.8, 3229.5\n",
      "20, Australia, Sydney, 220.1, 192.0, 198.4, 216.0, 2468.1\n",
      "21, Austria, Vienna, 66.0, 183.0, 260.0, 139.0, 1884.0\n",
      "22, Azerbaijan, Baku, 89.9, 195.0, 313.1, 145.7, 2207.4\n",
      "23, Bangladesh, Dhaka, 279.0, 180.0, 62.0, 186.0, 2066.0\n",
      "24, Belarus, Minsk, 34.0, 185.0, 271.0, 103.0, 1807.0\n",
      "25, Belgium, Brussels, 59.0, 159.0, 201.0, 113.0, 1546.0\n",
      "26, Benin, Cotonou, 213.9, 219.0, 136.4, 207.7, 2345.2\n",
      "27, Benin, Kandi, 279.0, 255.0, 223.2, 275.9, 3045.2\n",
      "28, Benin, Parakou, 261.0, 230.0, 133.0, 217.0, 2501.0\n",
      "29, Bolivia, La Paz, 182.9, 165.0, 235.6, 179.8, 2288.9\n",
      "30, Bosnia and Herzegovina, Sarajevo, 57.0, 152.0, 256.0, 149.0, 1769.0\n",
      "31, Botswana, Gaborone, 280.6, 260.5, 292.4, 295.4, 3371.0\n",
      "32, Botswana, Ghanzi, 295.0, 282.0, 316.0, 279.0, 3579.0\n",
      "33, Botswana, Maun, 245.0, 282.0, 313.0, 291.0, 3330.0\n",
      "34, Brazil, Belo Horizonte, 176.0, 210.7, 240.5, 196.5, 2424.7\n",
      "35, Brazil, Belém, 130.3, 132.8, 250.8, 231.8, 2234.9\n",
      "36, Brazil, Brasília, 150.9, 204.6, 268.9, 183.1, 2368.3\n",
      "37, Brazil, Curitiba, 160.5, 155.5, 162.1, 136.7, 1844.8\n",
      "38, Brazil, Fortaleza, 222.0, 147.1, 259.4, 294.1, 2804.2\n",
      "39, Brazil, Manaus, 112.7, 107.3, 218.5, 158.1, 1774.8\n",
      "40, Brazil, Porto Alegre, 227.2, 166.0, 131.4, 178.0, 2101.4\n",
      "41, Brazil, Recife, 233.0, 198.3, 175.2, 242.6, 2536.5\n",
      "42, Brazil, Rio de Janeiro, 194.3, 194.0, 196.0, 156.0, 2187.3\n",
      "43, Brazil, Salvador, 246.9, 194.1, 169.1, 235.5, 2443.0\n",
      "44, Brazil, São Paulo, 139.1, 169.3, 169.0, 157.9, 1893.5\n",
      "45, Bulgaria, Sofia, 88.0, 182.0, 302.0, 164.0, 2177.0\n",
      "46, Burkina Faso, Ouagadougou, 287.0, 256.0, 240.0, 273.0, 3136.0\n",
      "47, Burkina Faso, Ouahigouya, 291.0, 268.0, 258.0, 280.0, 3282.0\n",
      "48, Burundi, Bujumbura, 167.4, 165.0, 272.8, 189.1, 2373.4\n",
      "49, Cameroon, Douala, 184.0, 174.0, 55.0, 120.0, 1618.0\n",
      "50, Cameroon, Garoua, 275.0, 245.4, 194.0, 261.5, 2927.1\n",
      "51, Cameroon, N'Gaoundéré, 286.4, 195.5, 128.0, 184.0, 2471.4\n",
      "52, Cameroon, Yaoundé, 177.0, 153.0, 85.0, 120.0, 1644.0\n",
      "53, Canada, Calgary, 119.5, 220.2, 314.1, 175.4, 2396.3\n",
      "54, Canada, Churchill, 79.7, 198.2, 281.7, 58.1, 1799.5\n",
      "55, Canada, Edmonton, 100.8, 244.2, 307.5, 170.8, 2344.8\n",
      "56, Canada, Iqaluit, 32.4, 216.5, 236.8, 51.4, 1476.8\n",
      "57, Canada, Montreal, 101.0, 178.0, 272.0, 144.0, 2051.0\n",
      "58, Canada, Toronto, 85.9, 180.0, 279.6, 154.3, 2066.4\n",
      "59, Canada, Vancouver, 60.1, 185.0, 289.8, 120.7, 1937.6\n",
      "60, Canada, Whitehorse, 43.8, 238.5, 247.6, 84.9, 1827.1\n",
      "61, Canada, Winnipeg, 114.7, 241.4, 308.3, 147.4, 2352.9\n",
      "62, Central African Republic, Bangui, 217.0, 180.0, 124.0, 155.0, 2095.0\n",
      "63, Central African Republic, Birao, 289.6, 248.1, 190.7, 267.2, 2998.0\n",
      "64, Chad, Abéché, 316.2, 300.0, 254.2, 306.9, 3500.9\n",
      "65, Chad, N'Djamena, 297.6, 273.0, 213.9, 285.2, 3205.5\n",
      "66, Chile, Antofagasta, 319.3, 252.0, 204.6, 260.4, 3077.1\n",
      "67, Chile, Calama, 353.4, 312.0, 310.0, 356.5, 3926.2\n",
      "68, Chile, Concepción, 341.0, 191.0, 129.0, 254.0, 2681.0\n",
      "69, Chile, Santiago, 362.7, 201.0, 145.7, 248.0, 2807.9\n",
      "70, Chile, Valdivia, 257.3, 123.0, 65.1, 127.1, 1716.7\n",
      "71, China, Beijing, 194.1, 251.9, 212.4, 222.1, 2670.8\n",
      "72, China, Chongqing, 48.0, 111.0, 221.0, 63.0, 1293.0\n",
      "73, China, Fuzhou, 101.6, 111.0, 225.6, 144.2, 1607.1\n",
      "74, China, Guangzhou, 118.5, 65.1, 202.0, 181.8, 1628.0\n",
      "75, China, Hong Kong, 143.0, 101.7, 212.0, 193.9, 1835.6\n",
      "76, China, Lhasa, 250.9, 248.9, 227.4, 281.7, 2990.2\n",
      "77, China, Macau, 127.4, 85.3, 223.2, 192.3, 1773.9\n",
      "78, China, Nanjing, 124.7, 169.2, 196.7, 164.2, 1926.9\n",
      "79, China, Ningbo, 123.7, 142.4, 243.8, 166.5, 1910.0\n",
      "80, China, Qingdao, 186.0, 222.0, 182.9, 220.1, 2489.9\n",
      "81, China, Shanghai, 114.3, 148.5, 190.8, 161.4, 1775.8\n",
      "82, China, Tianjin, 170.1, 223.8, 206.4, 196.1, 2375.2\n",
      "83, China, Wuhan, 101.9, 152.8, 220.2, 151.9, 1775.8\n",
      "84, China, Xiamen, 133.3, 105.6, 234.6, 188.4, 1853.2\n",
      "85, China, Ürümqi, 101.6, 248.0, 298.7, 224.4, 2523.3\n",
      "86, Colombia, Barranquilla, 283.0, 211.0, 217.0, 167.0, 2561.0\n",
      "87, Colombia, Bogotá, 156.0, 88.0, 114.0, 96.0, 1328.0\n",
      "88, Colombia, Cali, 183.0, 139.0, 189.9, 151.1, 1941.9\n",
      "89, Colombia, Medellín, 175.5, 127.9, 203.2, 132.9, 1892.2\n",
      "90, Congo, Brazzaville, 168.0, 185.0, 127.0, 150.0, 1915.0\n",
      "91, Congo, Dolisie, 153.0, 152.0, 119.0, 116.0, 1607.0\n",
      "92, Congo, Pointe-Noire, 157.0, 160.0, 119.0, 93.0, 1574.0\n",
      "93, Croatia, Split, 133.0, 210.0, 347.0, 192.0, 2631.0\n",
      "94, Croatia, Zagreb, 59.0, 175.0, 281.0, 131.0, 1913.0\n",
      "95, Cyprus, Nicosia, 182.9, 267.0, 387.5, 275.9, 3314.1\n",
      "96, Czech Republic, Prague, 50.0, 168.0, 226.0, 121.0, 1668.0\n",
      "97, Democratic Republic of the Congo, Kinshasa, 124.0, 150.0, 124.0, 155.0, 1672.0\n",
      "98, Democratic Republic of the Congo, Lubumbashi, 129.0, 234.0, 315.0, 282.0, 2778.0\n",
      "99, Denmark, Aarhus, 54.0, 213.0, 242.0, 101.0, 1821.0\n",
      "100, Denmark, Copenhagen, 56.0, 226.0, 246.0, 107.0, 1912.0\n",
      "101, Denmark, Rønne, 43.0, 247.0, 282.0, 104.0, 2063.0\n",
      "102, Djibouti, Djibouti City, 254.0, 279.0, 236.0, 310.0, 3279.0\n",
      "103, Ecuador, Guayaquil, 102.3, 150.0, 127.1, 136.4, 1581.1\n",
      "104, Ecuador, Quito, 197.0, 136.0, 249.0, 177.0, 2238.0\n",
      "105, Egypt, Alexandria, 217.0, 318.0, 372.0, 306.9, 3579.5\n",
      "106, Egypt, Cairo, 229.4, 306.0, 372.0, 294.5, 3541.8\n",
      "107, Egypt, Dakhla Oasis, 294.5, 315.0, 384.4, 328.6, 3943.4\n",
      "108, Egypt, Hurghada, 265.7, 285.6, 352.3, 275.2, 3530.7\n",
      "109, Egypt, Marsa Alam, 279.0, 330.0, 403.0, 310.0, 3958.0\n",
      "110, El Salvador, San Salvador, 301.0, 243.0, 239.0, 211.0, 2957.0\n",
      "111, Equatorial Guinea, Bata, 201.5, 177.0, 142.6, 114.7, 1921.2\n",
      "112, Equatorial Guinea, Malabo, 148.8, 120.0, 46.5, 68.2, 1176.7\n",
      "113, Eritrea, Asmara, 304.7, 300.5, 217.9, 301.0, 3361.0\n",
      "114, Estonia, Tallinn, 30.0, 217.0, 312.0, 88.0, 1923.0\n",
      "115, Estonia, Vilsandi, 37.0, 226.0, 330.0, 100.0, 2066.0\n",
      "116, Ethiopia, Addis Abeba, 269.7, 213.0, 111.6, 266.6, 2440.3\n",
      "117, Ethiopia, Mekelle, 294.2, 277.2, 165.5, 291.1, 3129.4\n",
      "118, Falkland Islands, Stanley, 198.0, 115.0, 69.0, 189.0, 1651.0\n",
      "119, Faroe Islands, Tórshavn, 14.0, 106.0, 111.0, 49.0, 840.0\n",
      "120, Fiji, Suva, 192.2, 153.0, 136.4, 164.3, 1922.0\n",
      "121, Finland, Helsinki, 38.0, 194.0, 291.0, 93.0, 1858.0\n",
      "122, France, Lyon, 74.0, 191.0, 283.0, 130.0, 2002.0\n",
      "123, France, Marseille, 150.0, 245.0, 366.0, 205.0, 2836.0\n",
      "124, France, Paris, 63.0, 166.0, 212.0, 118.0, 1662.0\n",
      "125, French Guiana, Cayenne, 94.3, 118.1, 196.5, 251.1, 1976.0\n",
      "126, Gabon, Libreville, 175.2, 176.8, 119.2, 112.9, 1716.6\n",
      "127, Gabon, Port-Gentil, 150.4, 151.5, 163.1, 116.1, 1723.8\n",
      "128, Gambia, Banjul, 279.0, 300.0, 186.0, 248.0, 3070.0\n",
      "129, Georgia, Tbilisi, 99.0, 171.0, 256.0, 164.0, 2046.0\n",
      "130, Germany, Berlin, 47.0, 159.0, 217.0, 112.0, 1626.0\n",
      "131, Germany, Frankfurt, 50.0, 178.0, 233.0, 103.0, 1662.0\n",
      "132, Ghana, Accra, 217.0, 210.0, 155.0, 217.0, 2432.0\n",
      "133, Ghana, Kumasi, 186.6, 204.0, 101.2, 161.4, 1951.8\n",
      "134, Ghana, Tamale, 265.6, 229.0, 171.5, 260.9, 2718.7\n",
      "135, Greece, Athens, 130.0, 231.0, 363.0, 208.0, 2773.0\n",
      "136, Guinea, Conakry, 223.0, 222.0, 109.0, 189.0, 2222.0\n",
      "137, Guinea, Kankan, 262.0, 220.0, 169.0, 221.0, 2658.0\n",
      "138, Guinea-Bissau, Bissau, 248.0, 270.0, 186.0, 217.0, 2707.0\n",
      "139, Guyana, Georgetown, 201.0, 197.9, 201.6, 235.3, 2460.6\n",
      "140, Honduras, La Ceiba, 170.5, 234.0, 201.5, 151.9, 2259.8\n",
      "141, Hungary, Budapest, 62.0, 177.0, 271.0, 141.0, 1988.0\n",
      "142, Iceland, Reykjavik, 20.0, 164.0, 168.0, 93.0, 1326.0\n",
      "143, India, Bangalore, 262.0, 257.0, 112.0, 173.0, 2361.0\n",
      "144, India, Chennai, 232.5, 294.0, 142.6, 257.3, 2848.5\n",
      "145, India, Delhi, 214.6, 261.0, 165.9, 269.3, 2684.6\n",
      "146, India, Kolkata, 203.9, 235.4, 93.1, 182.6, 2107.5\n",
      "147, India, Mumbai, 269.5, 283.7, 73.4, 240.2, 2583.5\n",
      "148, Indonesia, Denpasar, 173.1, 224.7, 246.8, 252.5, 2666.6\n",
      "149, Indonesia, Jakarta, 189.1, 255.0, 282.1, 279.0, 2983.3\n",
      "150, Indonesia, Makassar, 155.0, 240.0, 270.0, 305.0, 2849.0\n",
      "151, Indonesia, Medan, 129.6, 131.2, 153.9, 116.3, 1587.7\n",
      "152, Iran, Bandar Abbas, 220.1, 242.4, 264.6, 283.4, 3090.0\n",
      "153, Iran, Isfahan, 205.3, 244.5, 347.6, 276.5, 3352.5\n",
      "154, Iran, Mashhad, 148.3, 200.4, 366.9, 249.5, 2904.3\n",
      "155, Iran, Tabriz, 125.9, 200.8, 352.5, 231.6, 1935.6\n",
      "156, Iran, Tehran, 137.2, 219.1, 336.6, 246.8, 2826.1\n",
      "157, Iraq, Baghdad, 192.2, 255.0, 347.2, 272.8, 3240.8\n",
      "158, Ireland, Dublin, 59.0, 160.0, 164.0, 103.0, 1453.0\n",
      "159, Israel, Tel Aviv, 192.2, 270.0, 368.9, 279.0, 3311.0\n",
      "160, Italy, Cagliari, 150.0, 218.0, 342.0, 209.0, 2726.0\n",
      "161, Italy, Milan, 59.0, 177.0, 285.0, 130.0, 1915.0\n",
      "162, Italy, Naples, 115.0, 189.0, 313.0, 189.0, 2375.0\n",
      "163, Italy, Rome, 121.0, 201.0, 332.0, 195.0, 2473.0\n",
      "164, Ivory Coast, Abidjan, 223.0, 214.0, 137.0, 215.0, 2296.0\n",
      "165, Ivory Coast, Bouaké, 242.0, 194.0, 104.0, 170.0, 2092.0\n",
      "166, Ivory Coast, Ferké, 279.0, 229.0, 183.0, 245.0, 2757.0\n",
      "167, Ivory Coast, Gagnoa, 183.0, 188.0, 97.0, 155.0, 1823.0\n",
      "168, Ivory Coast, Odienné, 242.0, 214.7, 183.5, 235.8, 2638.6\n",
      "169, Japan, Kanazawa, 63.5, 185.5, 158.9, 150.4, 1680.8\n",
      "170, Japan, Nagoya, 170.1, 196.6, 146.3, 169.0, 2091.6\n",
      "171, Japan, Sapporo, 92.5, 176.5, 164.9, 152.3, 1740.4\n",
      "172, Japan, Sendai, 148.1, 188.5, 119.5, 148.6, 1796.1\n",
      "173, Japan, Tokyo, 184.5, 176.9, 146.4, 131.0, 1876.7\n",
      "174, Kazakhstan, Almaty, 118.0, 194.0, 306.0, 184.0, 2356.0\n",
      "175, Kazakhstan, Astana, 103.0, 238.0, 336.0, 136.0, 2507.0\n",
      "176, Kenya, Garissa, 251.1, 273.0, 254.2, 279.0, 3114.2\n",
      "177, Kenya, Lodwar, 319.0, 279.0, 279.0, 316.0, 3582.0\n",
      "178, Kenya, Mombasa, 269.7, 225.0, 210.8, 272.8, 2932.0\n",
      "179, Kenya, Nairobi, 288.3, 204.0, 130.2, 226.3, 2491.9\n",
      "180, Latvia, Riga, 31.0, 183.0, 264.0, 93.0, 1754.0\n",
      "181, Libya, Benghazi, 179.8, 252.0, 381.3, 251.1, 3169.2\n",
      "182, Libya, Tripoli, 206.0, 250.0, 376.0, 244.0, 3187.0\n",
      "183, Lithuania, Vilnius, 32.0, 179.0, 260.0, 95.0, 1691.0\n",
      "184, Luxembourg, Luxembourg City, 43.0, 165.0, 232.5, 108.5, 1634.0\n",
      "185, Madagascar, Antananarivo, 210.5, 220.5, 213.9, 251.0, 2626.2\n",
      "186, Madagascar, Antsiranana, 189.2, 256.4, 273.1, 306.8, 3039.0\n",
      "187, Madagascar, Fianarantsoa, 191.1, 184.8, 163.5, 230.4, 2277.8\n",
      "188, Madagascar, Mahajanga, 209.0, 269.9, 291.5, 319.7, 3223.2\n",
      "189, Madagascar, Toamasina, 224.7, 196.9, 162.8, 232.7, 2410.4\n",
      "190, Madagascar, Toliara, 305.0, 302.0, 291.0, 324.0, 3610.0\n",
      "191, Malawi, Blantyre, 198.4, 237.0, 232.3, 275.9, 2797.0\n",
      "192, Malawi, Karonga, 176.7, 222.0, 285.2, 319.3, 2999.7\n",
      "193, Malawi, Mzuzu, 145.7, 171.0, 238.5, 300.7, 2590.9\n",
      "194, Mali, Bamako, 277.4, 230.4, 216.6, 253.7, 2954.1\n",
      "195, Mali, Ségou, 292.0, 263.0, 254.0, 283.0, 3239.0\n",
      "196, Mali, Timbuktu, 263.9, 254.6, 248.6, 273.0, 3106.5\n",
      "197, Malta, Valletta, 169.0, 254.0, 377.0, 224.0, 3054.0\n",
      "198, Mauritania, Nouadhibou, 271.0, 295.0, 275.0, 260.0, 3332.0\n",
      "199, Mauritania, Nouakchott, 267.0, 311.0, 271.0, 263.0, 3333.0\n",
      "200, Mexico, La Paz, 200.0, 292.0, 287.0, 272.0, 3148.0\n",
      "201, Mexico, Mexico City, 240.0, 232.0, 176.0, 194.0, 2555.0\n",
      "202, Mexico, Monterrey, 142.0, 193.0, 249.0, 170.0, 2239.0\n",
      "203, Mexico, Villahermosa, 168.0, 215.0, 252.0, 150.0, 2443.0\n",
      "204, Moldova, Chișinău, 75.0, 187.0, 299.0, 169.0, 2126.0\n",
      "205, Monaco, Monaco, 149.8, 210.0, 329.3, 199.0, 2575.0\n",
      "206, Mongolia, Ulaanbaatar, 179.1, 262.5, 249.3, 227.5, 2791.5\n",
      "207, Montenegro, Podgorica, 123.0, 194.0, 340.0, 201.0, 2481.0\n",
      "208, Morocco, Marrakech, 220.1, 255.0, 334.8, 244.9, 3131.2\n",
      "209, Morocco, Ouarzazate, 251.8, 315.2, 317.7, 271.3, 3416.4\n",
      "210, Morocco, Rabat, 179.8, 255.0, 316.2, 235.6, 2918.8\n",
      "211, Mozambique, Maputo, 248.0, 240.0, 248.0, 217.0, 2838.0\n",
      "212, Namibia, Keetmanshoop, 353.0, 306.0, 305.0, 343.0, 3870.0\n",
      "213, Namibia, Windhoek, 288.0, 273.0, 326.0, 319.0, 3605.0\n",
      "214, Netherlands, Amsterdam, 63.0, 183.0, 217.0, 109.0, 1662.0\n",
      "215, New Zealand, Auckland, 228.8, 157.3, 128.1, 178.1, 2003.1\n",
      "216, New Zealand, Christchurch, 224.4, 155.6, 124.8, 201.3, 2070.2\n",
      "217, New Zealand, Dunedin, 179.6, 125.9, 110.6, 165.5, 1683.7\n",
      "218, New Zealand, Wellington, 240.3, 153.8, 111.4, 191.1, 2058.7\n",
      "219, Nicaragua, Managua, 263.5, 276.0, 151.9, 223.2, 2759.9\n",
      "220, Niger, Niamey, 297.6, 252.0, 257.3, 282.6, 3203.2\n",
      "221, Nigeria, Jos, 307.0, 220.0, 151.0, 242.0, 2768.0\n",
      "222, Nigeria, Kano, 275.0, 252.0, 233.0, 295.0, 3114.0\n",
      "223, Nigeria, Lagos, 164.3, 180.0, 99.2, 167.4, 1845.4\n",
      "224, Nigeria, Makurdi, 236.0, 216.0, 143.0, 198.0, 2380.0\n",
      "225, Nigeria, Sokoto, 279.0, 255.0, 229.0, 307.0, 3238.0\n",
      "226, North Korea, Pyongyang, 184.0, 237.0, 181.0, 214.0, 2492.0\n",
      "227, North Macedonia, Skopje, 87.0, 198.0, 323.0, 188.0, 2339.0\n",
      "228, Norway, Bergen, 19.0, 147.0, 167.0, 60.0, 1187.0\n",
      "229, Norway, Oslo, 40.0, 178.0, 246.0, 86.0, 1668.0\n",
      "230, Norway, Tromsø, 3.0, 160.0, 205.0, 49.0, 1265.0\n",
      "231, Oman, Muscat, 268.6, 292.5, 277.7, 316.9, 3493.3\n",
      "232, Pakistan, Karachi, 270.7, 277.4, 155.0, 283.5, 2950.3\n",
      "233, Pakistan, Lahore, 218.8, 276.6, 227.5, 290.0, 3034.0\n",
      "234, Pakistan, Quetta, 229.1, 273.0, 313.1, 306.9, 3341.25\n",
      "235, Panama, Panama City, 228.9, 173.1, 106.1, 103.9, 1743.5\n",
      "236, Papua New Guinea, Port Moresby, 182.0, 200.0, 203.0, 231.0, 2463.0\n",
      "237, Paraguay, Asunción, 276.0, 228.0, 195.0, 242.0, 2803.0\n",
      "238, Peru, Arequipa, 223.2, 294.0, 291.4, 303.8, 3333.3\n",
      "239, Peru, Lima, 179.1, 184.0, 28.6, 65.3, 1230.0\n",
      "240, Philippines, Manila, 176.7, 258.0, 132.8, 157.6, 2103.1\n",
      "241, Poland, Warsaw, 43.0, 150.0, 226.0, 99.0, 1571.0\n",
      "242, Portugal, Faro, 172.0, 251.0, 368.0, 226.0, 3036.0\n",
      "243, Portugal, Lisbon, 143.0, 234.0, 353.0, 214.0, 2806.0\n",
      "244, Portugal, Porto, 124.0, 217.0, 308.0, 184.0, 2468.0\n",
      "245, Puerto Rico, San Juan, 237.4, 268.3, 280.8, 227.2, 2963.8\n",
      "246, Romania, Bucharest, 71.0, 186.0, 288.0, 177.0, 2115.0\n",
      "247, Russia, Dikson, 0.0, 237.0, 223.2, 24.8, 1164.3\n",
      "248, Russia, Irkutsk, 93.0, 223.0, 243.0, 152.0, 2142.0\n",
      "249, Russia, Moscow, 37.0, 213.0, 323.0, 88.0, 1901.0\n",
      "250, Russia, Omsk, 68.0, 235.0, 321.0, 105.0, 2201.0\n",
      "251, Russia, Petropavlovsk-Kamchatsky, 105.4, 192.0, 170.5, 158.1, 1872.4\n",
      "252, Russia, Sochi, 96.0, 162.0, 279.0, 195.0, 2178.0\n",
      "253, Russia, Vladivostok, 178.0, 192.0, 122.0, 205.0, 2096.0\n",
      "254, Russia, Yakutsk, 18.6, 273.0, 347.2, 105.4, 2227.6\n",
      "255, Saint Pierreand Miquelon, Saint-Pierre, 49.6, 131.9, 164.8, 119.0, 1427.3\n",
      "256, Saudi Arabia, Abha, 266.6, 282.0, 232.5, 291.4, 3248.2\n",
      "257, Saudi Arabia, Riyadh, 212.4, 242.3, 332.1, 311.4, 3224.8\n",
      "258, Senegal, Dakar, 253.0, 301.0, 233.0, 254.0, 3078.0\n",
      "259, Senegal, Thiès, 267.0, 332.0, 226.0, 267.0, 3214.0\n",
      "260, Serbia, Belgrade, 72.0, 188.0, 291.0, 163.0, 2112.0\n",
      "261, Serbia, Niš, 65.0, 171.0, 287.0, 151.0, 1998.0\n",
      "262, Singapore, Singapore, 172.4, 173.6, 187.9, 155.2, 2022.4\n",
      "263, Slovakia, Bratislava, 65.0, 204.0, 276.0, 143.0, 2038.0\n",
      "264, Slovenia, Ljubljana, 71.0, 178.0, 293.0, 120.0, 1974.0\n",
      "265, Solomon Islands, Honiara, 186.0, 192.0, 186.0, 226.3, 2330.0\n",
      "266, Somalia, Buloburde, 290.0, 249.0, 216.0, 230.0, 3124.0\n",
      "267, Somalia, Mogadishu, 268.0, 260.0, 226.0, 267.0, 3082.0\n",
      "268, South Africa, Bloemfontein, 296.3, 250.2, 272.6, 290.9, 3312.3\n",
      "269, South Africa, Cape Town, 337.9, 233.5, 193.1, 277.7, 3094.0\n",
      "270, South Africa, Durban, 184.0, 206.4, 230.4, 169.4, 2365.4\n",
      "271, South Africa, Johannesburg, 250.1, 236.9, 283.9, 269.5, 3124.4\n",
      "272, South Africa, Pretoria, 261.0, 246.6, 289.0, 275.0, 3220.0\n",
      "273, South Africa, Upington, 352.9, 283.5, 289.8, 328.9, 3731.8\n",
      "274, South Korea, Busan, 199.0, 210.0, 165.8, 208.9, 2327.3\n",
      "275, South Korea, Seoul, 160.3, 205.0, 120.0, 198.8, 2066.0\n",
      "276, South Sudan, Juba, 288.3, 195.0, 182.9, 235.6, 2753.5\n",
      "277, South Sudan, Wau, 300.7, 228.0, 176.7, 229.4, 2929.1\n",
      "278, Spain, Barcelona, 158.0, 239.0, 293.0, 196.0, 2591.0\n",
      "279, Spain, Cádiz, 184.0, 255.0, 354.0, 228.0, 3024.0\n",
      "280, Spain, Madrid, 148.0, 231.0, 359.0, 198.0, 2769.0\n",
      "281, Spain, Seville, 183.0, 238.0, 354.0, 217.0, 2921.0\n",
      "282, Spain, Valencia, 171.0, 234.0, 315.0, 202.0, 2696.0\n",
      "283, Sudan, Khartoum, 341.0, 330.0, 279.0, 310.0, 3737.1\n",
      "284, Sudan, Port Sudan, 214.0, 312.0, 307.0, 307.0, 3382.0\n",
      "285, Sweden, Gothenburg, 44.0, 211.0, 234.0, 99.0, 1762.0\n",
      "286, Sweden, Stockholm, 40.0, 185.0, 260.0, 99.0, 1803.0\n",
      "287, Switzerland, Geneva, 61.0, 187.0, 269.0, 116.0, 1887.0\n",
      "288, Switzerland, Lugano, 124.0, 182.0, 260.0, 141.0, 2120.0\n",
      "289, Switzerland, Sion, 93.0, 210.0, 271.0, 160.0, 2158.0\n",
      "290, Switzerland, Zurich, 48.0, 159.0, 230.0, 93.0, 1566.0\n",
      "291, Taiwan, Kaohsiung, 174.7, 189.1, 221.4, 182.4, 2212.2\n",
      "292, Taiwan, Taichung, 176.6, 137.8, 199.6, 203.7, 2043.2\n",
      "293, Taiwan, Taipei, 80.6, 92.6, 179.0, 124.0, 1405.2\n",
      "294, Tanzania, Dar-es-Salaam, 251.0, 156.0, 251.0, 254.0, 2815.0\n",
      "295, Tanzania, Dodoma, 241.8, 240.0, 341.0, 310.0, 3335.4\n",
      "296, Tanzania, Tabora, 216.0, 227.0, 310.0, 301.0, 3143.0\n",
      "297, Tanzania, Zanzibar, 251.0, 180.0, 235.0, 270.0, 2838.0\n",
      "298, Thailand, Bangkok, 272.5, 256.7, 171.8, 198.1, 2623.8\n",
      "299, Thailand, Chiang Mai, 272.8, 279.0, 120.9, 201.5, 2512.2\n",
      "300, Thailand, Hat Yai, 182.9, 144.0, 114.7, 111.6, 1567.8\n",
      "301, Thailand, Nakhon Ratchasima, 226.3, 186.0, 117.8, 145.7, 1996.3\n",
      "302, Togo, Lomé, 217.5, 201.9, 141.6, 205.5, 2333.9\n",
      "303, Togo, Mango, 285.0, 241.0, 168.0, 273.0, 2826.0\n",
      "304, Tunisia, Gabes, 220.1, 267.0, 372.0, 260.4, 3291.5\n",
      "305, Tunisia, Tunis, 145.7, 225.0, 356.5, 217.0, 2808.4\n",
      "306, Turkey, Ankara, 77.5, 189.0, 350.3, 198.4, 2449.6\n",
      "307, Turkey, Istanbul, 71.0, 180.0, 322.0, 164.0, 2218.0\n",
      "308, Uganda, Entebbe, 233.0, 180.0, 198.0, 201.0, 2398.0\n",
      "309, Uganda, Kampala, 238.0, 195.0, 139.0, 172.0, 2210.0\n",
      "310, Ukraine, Kyiv, 31.0, 180.0, 310.0, 155.0, 1955.0\n",
      "311, United ArabEmirates, Dubai, 254.2, 294.0, 322.4, 303.8, 3508.7\n",
      "312, United Kingdom, Edinburgh, 54.0, 145.0, 172.0, 101.0, 1427.0\n",
      "313, United Kingdom, London, 62.0, 169.0, 212.0, 117.0, 1633.0\n",
      "314, United States, Albuquerque, 234.2, 304.6, 335.0, 281.4, 3415.4\n",
      "315, United States, Anchorage, 82.9, 235.3, 250.1, 117.1, 2061.2\n",
      "316, United States, Atlanta, 164.0, 261.2, 273.8, 238.5, 2738.3\n",
      "317, United States, Austin, 163.8, 205.8, 317.2, 215.6, 2643.7\n",
      "318, United States, Baltimore, 155.4, 230.7, 290.1, 205.5, 2581.7\n",
      "319, United States, Boise, 109.3, 281.4, 399.8, 238.1, 2993.4\n",
      "320, United States, Boston, 163.4, 227.2, 300.9, 206.3, 2633.6\n",
      "321, United States, Charlotte, 173.3, 269.6, 290.0, 230.5, 2821.0\n",
      "322, United States, Chicago, 135.8, 215.3, 318.4, 193.2, 2508.4\n",
      "323, United States, Cleveland, 101.0, 216.0, 307.2, 169.5, 2280.0\n",
      "324, United States, Columbus, 110.6, 201.8, 260.9, 183.1, 2182.6\n",
      "325, United States, Dallas, 183.5, 236.0, 332.4, 228.1, 2849.7\n",
      "326, United States, Denver, 215.3, 276.2, 325.0, 249.2, 3106.6\n",
      "327, United States, Detroit, 119.9, 217.0, 317.0, 176.0, 2435.9\n",
      "328, United States, El Paso, 254.5, 348.0, 360.2, 298.6, 3762.5\n",
      "329, United States, Fresno, 141.5, 335.5, 428.2, 302.3, 3564.2\n",
      "330, United States, Honolulu, 213.5, 251.8, 306.2, 244.0, 3035.9\n",
      "331, United States, Houston, 143.4, 209.8, 293.9, 228.8, 2577.9\n",
      "332, United States, Indianapolis, 132.1, 214.8, 295.2, 196.6, 2440.4\n",
      "333, United States, Jacksonville, 189.4, 286.4, 282.0, 214.6, 2879.7\n",
      "334, United States, Kansas City, 183.7, 257.8, 329.3, 213.6, 2809.9\n",
      "335, United States, Las Vegas, 245.2, 346.1, 390.9, 304.4, 3825.3\n",
      "336, United States, Los Angeles, 225.3, 303.5, 364.1, 255.1, 3254.2\n",
      "337, United States, Louisville, 140.5, 221.1, 293.6, 208.5, 2514.4\n",
      "338, United States, Memphis, 166.6, 254.6, 326.9, 245.9, 2888.3\n",
      "339, United States, Miami, 219.8, 293.8, 308.7, 260.2, 3154.0\n",
      "340, United States, Milwaukee, 140.2, 213.5, 321.1, 178.0, 2483.6\n",
      "341, United States, Minneapolis, 156.7, 242.1, 350.5, 181.0, 2710.7\n",
      "342, United States, Nashville, 139.6, 231.5, 279.0, 216.8, 2510.1\n",
      "343, United States, New Orleans, 153.0, 251.9, 257.1, 242.6, 2648.9\n",
      "344, United States, New York City, 162.7, 225.6, 268.2, 211.2, 2534.7\n",
      "345, United States, Nome, 62.2, 245.3, 250.3, 116.7, 2036.3\n",
      "346, United States, OklahomaCity, 200.8, 271.3, 356.6, 245.1, 3089.4\n",
      "347, United States, Omaha, 167.8, 230.1, 332.5, 217.5, 2726.9\n",
      "348, United States, Philadelphia, 155.7, 217.0, 275.6, 204.5, 2498.4\n",
      "349, United States, Phoenix, 256.0, 353.6, 378.5, 308.9, 3871.6\n",
      "350, United States, Pittsburgh, 93.9, 182.8, 254.9, 167.3, 2021.3\n",
      "351, United States, Portland (OR), 85.6, 221.1, 331.9, 151.7, 2340.9\n",
      "352, United States, Raleigh, 163.8, 250.7, 259.5, 215.4, 2606.3\n",
      "353, United States, Richmond (VA), 172.5, 261.6, 301.4, 222.8, 2829.0\n",
      "354, United States, Sacramento, 145.5, 329.6, 440.2, 296.7, 3607.8\n",
      "355, United States, Salt Lake City, 127.4, 269.1, 380.5, 248.1, 3029.4\n",
      "356, United States, San Antonio, 159.4, 209.7, 308.8, 218.0, 2629.2\n",
      "357, United States, San Diego, 239.3, 276.2, 304.7, 243.4, 3054.6\n",
      "358, United States, San Francisco, 185.9, 309.3, 313.3, 247.1, 3061.7\n",
      "359, United States, Seattle, 69.8, 207.3, 312.0, 142.6, 2169.7\n",
      "360, United States, St. Louis, 161.2, 223.5, 308.9, 208.4, 2593.7\n",
      "361, United States, Tampa, 199.9, 299.1, 265.3, 233.9, 2926.5\n",
      "362, United States, Tucson, 259.9, 357.2, 342.7, 307.4, 3806.0\n",
      "363, United States, Tulsa, 175.8, 244.4, 334.7, 218.6, 2786.0\n",
      "364, United States, Virginia Beach, 171.5, 252.8, 278.3, 208.3, 2695.1\n",
      "365, United States, Washington,D.C., 144.6, 228.2, 280.5, 203.6, 2527.7\n",
      "366, United States, Wichita, 190.9, 257.8, 342.1, 226.3, 2922.4\n",
      "367, United States, Yuma, 268.4, 365.5, 392.6, 319.6, 4015.3\n",
      "368, Uruguay, Montevideo, 294.9, 179.6, 139.7, 239.0, 2481.4\n",
      "369, Uzbekistan, Tashkent, 117.8, 216.0, 384.4, 226.3, 2823.9\n",
      "370, Venezuela, Caracas, 229.4, 183.0, 210.8, 210.8, 2506.9\n",
      "371, Venezuela, Ciudad Bolivar, 248.0, 234.0, 232.5, 260.4, 2894.8\n",
      "372, Venezuela, Maracaibo, 300.0, 257.0, 301.0, 283.0, 3284.2\n",
      "373, Vietnam, Da Lat, 255.0, 202.0, 157.0, 140.0, 2238.0\n",
      "374, Vietnam, Da Nang, 139.0, 209.0, 253.0, 145.0, 2182.0\n",
      "375, Vietnam, Hanoi, 74.0, 90.0, 195.0, 167.0, 1585.0\n",
      "376, Vietnam, Ho Chi Minh City, 245.0, 239.0, 180.0, 182.0, 2489.0\n",
      "377, Zambia, Livingstone, 213.9, 273.0, 310.0, 279.0, 3166.8\n",
      "378, Zambia, Lusaka, 176.7, 246.0, 294.5, 272.8, 2935.7\n",
      "379, Zambia, Ndola, 151.9, 243.0, 297.6, 269.7, 2793.9\n",
      "380, Zimbabwe, Bulawayo, 244.9, 252.0, 288.3, 272.8, 3119.9\n",
      "381, Zimbabwe, Harare, 217.0, 249.0, 279.0, 285.2, 3010.9\n"
     ]
    }
   ],
   "source": [
    "# Print all observations\n"
   ]
  },
  {
   "cell_type": "code",
   "execution_count": 7,
   "metadata": {},
   "outputs": [
    {
     "name": "stdout",
     "output_type": "stream",
     "text": [
      "382\n"
     ]
    }
   ],
   "source": [
    "# Find the total number of cities in the database\n"
   ]
  },
  {
   "cell_type": "code",
   "execution_count": 8,
   "metadata": {},
   "outputs": [
    {
     "name": "stdout",
     "output_type": "stream",
     "text": [
      "9\n"
     ]
    }
   ],
   "source": [
    "# Find the total number of observed cities in Canada\n"
   ]
  },
  {
   "cell_type": "code",
   "execution_count": 9,
   "metadata": {},
   "outputs": [
    {
     "name": "stdout",
     "output_type": "stream",
     "text": [
      "11\n"
     ]
    }
   ],
   "source": [
    "# Find the number of cities whose yearly sunshine equals or exceeds 3700 hours\n"
   ]
  },
  {
   "cell_type": "code",
   "execution_count": 10,
   "metadata": {},
   "outputs": [],
   "source": [
    "# Print the cities that have a total yearly sunshine of 3700 hours or greater\n"
   ]
  },
  {
   "cell_type": "code",
   "execution_count": 11,
   "metadata": {},
   "outputs": [
    {
     "name": "stdout",
     "output_type": "stream",
     "text": [
      "Chile Calama 3926.2\n",
      "Egypt Dakhla Oasis 3943.4\n",
      "Egypt Marsa Alam 3958.0\n",
      "Namibia Keetmanshoop 3870.0\n",
      "South Africa Upington 3731.8\n",
      "Sudan Khartoum 3737.1\n",
      "United States El Paso 3762.5\n",
      "United States Las Vegas 3825.3\n",
      "United States Phoenix 3871.6\n",
      "United States Tucson 3806.0\n",
      "United States Yuma 4015.3\n"
     ]
    }
   ],
   "source": [
    "# Print the city name, country, January sunny hours, and yearly sunny hours \n",
    "# of all cities that have 3700 or greater hours of sunshine in a year.\n"
   ]
  },
  {
   "cell_type": "code",
   "execution_count": 12,
   "metadata": {},
   "outputs": [],
   "source": [
    "# Find the number of cities whose January sunshine equals or exceeds 300 hours\n"
   ]
  },
  {
   "cell_type": "code",
   "execution_count": 13,
   "metadata": {},
   "outputs": [
    {
     "name": "stdout",
     "output_type": "stream",
     "text": [
      "19\n"
     ]
    }
   ],
   "source": [
    "print(sunny_january_count)"
   ]
  },
  {
   "cell_type": "code",
   "execution_count": 14,
   "metadata": {},
   "outputs": [],
   "source": [
    "# Find cities whose January sunshine equals or exceeds 300 hours\n"
   ]
  },
  {
   "cell_type": "code",
   "execution_count": 15,
   "metadata": {},
   "outputs": [
    {
     "name": "stdout",
     "output_type": "stream",
     "text": [
      "Australia Adelaide 325.5 2765.4\n",
      "Australia Alice Springs 306.0 3499.1\n",
      "Australia Perth 356.5 3229.5\n",
      "Chad Abéché 316.2 3500.9\n",
      "Chile Antofagasta 319.3 3077.1\n",
      "Chile Calama 353.4 3926.2\n",
      "Chile Concepción 341.0 2681.0\n",
      "Chile Santiago 362.7 2807.9\n",
      "El Salvador San Salvador 301.0 2957.0\n",
      "Eritrea Asmara 304.7 3361.0\n",
      "Kenya Lodwar 319.0 3582.0\n",
      "Madagascar Toliara 305.0 3610.0\n",
      "Namibia Keetmanshoop 353.0 3870.0\n",
      "Nigeria Jos 307.0 2768.0\n",
      "South Africa Cape Town 337.9 3094.0\n",
      "South Africa Upington 352.9 3731.8\n",
      "South Sudan Wau 300.7 2929.1\n",
      "Sudan Khartoum 341.0 3737.1\n",
      "Venezuela Maracaibo 300.0 3284.2\n"
     ]
    }
   ],
   "source": [
    "# Print the city name, country, January sunny hours, and yearly sunny hours \n",
    "# of all cities that have 300 or greater hours of sunshine in January.\n"
   ]
  },
  {
   "cell_type": "code",
   "execution_count": 16,
   "metadata": {},
   "outputs": [
    {
     "name": "stdout",
     "output_type": "stream",
     "text": [
      "11\n"
     ]
    }
   ],
   "source": [
    "# Find cities in the United States whose yearly sunshine is 2500 or fewer\n",
    "\n"
   ]
  },
  {
   "cell_type": "code",
   "execution_count": 17,
   "metadata": {},
   "outputs": [],
   "source": [
    "overcast_cities = session.query(Sunshine).\\\n",
    "    filter(Sunshine.Country == 'United States').\\\n",
    "    filter(Sunshine.Year <= 2500)"
   ]
  },
  {
   "cell_type": "code",
   "execution_count": 18,
   "metadata": {},
   "outputs": [
    {
     "name": "stdout",
     "output_type": "stream",
     "text": [
      "Anchorage 2061.2\n",
      "Cleveland 2280.0\n",
      "Columbus 2182.6\n",
      "Detroit 2435.9\n",
      "Indianapolis 2440.4\n",
      "Milwaukee 2483.6\n",
      "Nome 2036.3\n",
      "Philadelphia 2498.4\n",
      "Pittsburgh 2021.3\n",
      "Portland (OR) 2340.9\n",
      "Seattle 2169.7\n"
     ]
    }
   ],
   "source": [
    "# Retrieve the city name and yearly sunny hours of cities in the United States that receive 2500 or fewer hours of sunshine per year\n"
   ]
  },
  {
   "cell_type": "code",
   "execution_count": 19,
   "metadata": {},
   "outputs": [],
   "source": [
    "session.close()"
   ]
  },
  {
   "cell_type": "code",
   "execution_count": null,
   "metadata": {},
   "outputs": [],
   "source": []
  }
 ],
 "metadata": {
  "kernelspec": {
   "display_name": "Python 3 (ipykernel)",
   "language": "python",
   "name": "python3"
  },
  "language_info": {
   "codemirror_mode": {
    "name": "ipython",
    "version": 3
   },
   "file_extension": ".py",
   "mimetype": "text/x-python",
   "name": "python",
   "nbconvert_exporter": "python",
   "pygments_lexer": "ipython3",
   "version": "3.10.4"
  },
  "nteract": {
   "version": "0.28.0"
  }
 },
 "nbformat": 4,
 "nbformat_minor": 4
}
