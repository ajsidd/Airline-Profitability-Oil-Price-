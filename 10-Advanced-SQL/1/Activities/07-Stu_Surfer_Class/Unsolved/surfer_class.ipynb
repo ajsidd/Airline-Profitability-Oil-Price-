{
 "cells": [
  {
   "cell_type": "code",
   "execution_count": 1,
   "metadata": {},
   "outputs": [],
   "source": [
    "# Define the Surfer Class\n",
    "class Surfer():\n",
    "\n",
    "  # Initialize the Surfer constructor \n",
    "  "
   ]
  },
  {
   "cell_type": "code",
   "execution_count": 2,
   "metadata": {},
   "outputs": [],
   "source": [
    "# Create an instance of the Surfer Class\n"
   ]
  },
  {
   "cell_type": "code",
   "execution_count": 3,
   "metadata": {},
   "outputs": [
    {
     "name": "stdout",
     "output_type": "stream",
     "text": [
      "Kelly Slater Dude\n",
      "Cocoa Beach Waves\n",
      "1\n"
     ]
    }
   ],
   "source": [
    "# Print the object's attributes\n"
   ]
  },
  {
   "cell_type": "code",
   "execution_count": 4,
   "metadata": {},
   "outputs": [
    {
     "name": "stdout",
     "output_type": "stream",
     "text": [
      "What is the surfer's name? Carissa Moore\n",
      "What is the surfer's hometown? Hawaii\n",
      "What is the surfer's rank? 2\n",
      "Carissa Moore Dude\n",
      "Hawaii Waves\n",
      "2\n",
      "Would you like to continue? (y/n) n\n"
     ]
    }
   ],
   "source": [
    "# ----BONUS----\n",
    "# Variable to keep track of changes to while loop\n",
    "go = True\n",
    "\n",
    "# While loop runs so long as go is True\n",
    "while go:\n",
    "\n",
    "  # Ask for user input and store answers within variables\n",
    "  \n",
    "  \n",
    "  # Create a new instance of the Surfer class using these values\n",
    "  \n",
    "\n",
    "  # Print the object's attributes\n",
    "  \n",
    "\n",
    "\n",
    "  # Check to see if the user would like to continue\n",
    "  "
   ]
  },
  {
   "cell_type": "code",
   "execution_count": null,
   "metadata": {},
   "outputs": [],
   "source": []
  }
 ],
 "metadata": {
  "kernelspec": {
   "display_name": "Python 3 (ipykernel)",
   "language": "python",
   "name": "python3"
  },
  "language_info": {
   "codemirror_mode": {
    "name": "ipython",
    "version": 3
   },
   "file_extension": ".py",
   "mimetype": "text/x-python",
   "name": "python",
   "nbconvert_exporter": "python",
   "pygments_lexer": "ipython3",
   "version": "3.10.4"
  },
  "varInspector": {
   "cols": {
    "lenName": 16,
    "lenType": 16,
    "lenVar": 40
   },
   "kernels_config": {
    "python": {
     "delete_cmd_postfix": "",
     "delete_cmd_prefix": "del ",
     "library": "var_list.py",
     "varRefreshCmd": "print(var_dic_list())"
    },
    "r": {
     "delete_cmd_postfix": ") ",
     "delete_cmd_prefix": "rm(",
     "library": "var_list.r",
     "varRefreshCmd": "cat(var_dic_list()) "
    }
   },
   "types_to_exclude": [
    "module",
    "function",
    "builtin_function_or_method",
    "instance",
    "_Feature"
   ],
   "window_display": false
  }
 },
 "nbformat": 4,
 "nbformat_minor": 2
}
