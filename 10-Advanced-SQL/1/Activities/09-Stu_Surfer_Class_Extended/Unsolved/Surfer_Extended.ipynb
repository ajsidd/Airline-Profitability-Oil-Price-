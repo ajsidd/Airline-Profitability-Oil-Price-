{
 "cells": [
  {
   "cell_type": "code",
   "execution_count": 1,
   "metadata": {},
   "outputs": [],
   "source": [
    "# Define the Surfer Class\n",
    "class Surfer():\n",
    "\n",
    "    # Keep track of surfer count as they are created\n",
    "    surferCount = 0\n",
    "\n",
    "    # Constructor\n",
    "    # --------------------------------------------------------------------------------\n",
    "    # Initialize the surfer and assign each surfer a new surfer count upon creation\n",
    "    \n",
    "    \n",
    "    # Class Methods\n",
    "    # --------------------------------------------------------------------------------\n",
    "    # Prints what number surfer they are based on when they were created\n",
    "    \n",
    "\n",
    "    # Prints out simple string\n",
    "    \n",
    "\n",
    "    # Interpolates based on their attributes\n",
    "     \n",
    "\n",
    "    # Check how many wipeouts and print out a statement\n",
    "    "
   ]
  },
  {
   "cell_type": "code",
   "execution_count": 2,
   "metadata": {},
   "outputs": [
    {
     "name": "stdout",
     "output_type": "stream",
     "text": [
      "Kelly Slater\n",
      "Cocoa Beach\n",
      "1\n",
      "0\n",
      "Hang loose bruh!\n",
      "My name is Kelly Slater, I am from Cocoa Beach and rank #1, I've wiped out 0 times!\n",
      "I totally rock man, no wipeouts!\n",
      "Total surfers shredding waves 1\n"
     ]
    }
   ],
   "source": [
    "# Create Surfers\n",
    "# --------------------------------------------------------------------------------\n",
    "\n"
   ]
  },
  {
   "cell_type": "code",
   "execution_count": 3,
   "metadata": {},
   "outputs": [
    {
     "name": "stdout",
     "output_type": "stream",
     "text": [
      "John Breezy\n",
      "Spring Lake\n",
      "1\n",
      "10\n",
      "Hang loose bruh!\n",
      "My name is John Breezy, I am from Spring Lake and rank #1, I've wiped out 10 times!\n",
      "Bummer bruh, keep on keeping on!\n",
      "Total surfers shredding waves 2\n"
     ]
    }
   ],
   "source": []
  }
 ],
 "metadata": {
  "kernelspec": {
   "display_name": "Python 3 (ipykernel)",
   "language": "python",
   "name": "python3"
  },
  "language_info": {
   "codemirror_mode": {
    "name": "ipython",
    "version": 3
   },
   "file_extension": ".py",
   "mimetype": "text/x-python",
   "name": "python",
   "nbconvert_exporter": "python",
   "pygments_lexer": "ipython3",
   "version": "3.10.4"
  },
  "varInspector": {
   "cols": {
    "lenName": 16,
    "lenType": 16,
    "lenVar": 40
   },
   "kernels_config": {
    "python": {
     "delete_cmd_postfix": "",
     "delete_cmd_prefix": "del ",
     "library": "var_list.py",
     "varRefreshCmd": "print(var_dic_list())"
    },
    "r": {
     "delete_cmd_postfix": ") ",
     "delete_cmd_prefix": "rm(",
     "library": "var_list.r",
     "varRefreshCmd": "cat(var_dic_list()) "
    }
   },
   "types_to_exclude": [
    "module",
    "function",
    "builtin_function_or_method",
    "instance",
    "_Feature"
   ],
   "window_display": false
  }
 },
 "nbformat": 4,
 "nbformat_minor": 2
}
