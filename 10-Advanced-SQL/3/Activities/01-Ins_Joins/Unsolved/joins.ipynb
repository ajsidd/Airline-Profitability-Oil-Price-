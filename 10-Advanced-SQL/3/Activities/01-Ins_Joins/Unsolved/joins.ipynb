{
 "cells": [
  {
   "cell_type": "markdown",
   "metadata": {},
   "source": [
    "## Setup"
   ]
  },
  {
   "cell_type": "code",
   "execution_count": 1,
   "metadata": {},
   "outputs": [],
   "source": [
    "# Python SQL toolkit and Object Relational Mapper\n",
    "import sqlalchemy\n",
    "from sqlalchemy.ext.automap import automap_base\n",
    "from sqlalchemy.orm import Session\n",
    "from sqlalchemy import create_engine, inspect"
   ]
  },
  {
   "cell_type": "code",
   "execution_count": 2,
   "metadata": {},
   "outputs": [],
   "source": [
    "# Create Database Connection\n",
    "engine = create_engine(\"sqlite:///../Resources/mammal_masses.sqlite\", echo=False)"
   ]
  },
  {
   "cell_type": "code",
   "execution_count": 3,
   "metadata": {},
   "outputs": [
    {
     "data": {
      "text/plain": [
       "['af', 'aus', 'ea', 'insular', 'na', 'oceanic', 'sa']"
      ]
     },
     "execution_count": 3,
     "metadata": {},
     "output_type": "execute_result"
    }
   ],
   "source": [
    "# Reflect Database into ORM classes\n",
    "Base = automap_base()\n",
    "Base.prepare(autoload_with=engine)\n",
    "Base.classes.keys()"
   ]
  },
  {
   "cell_type": "code",
   "execution_count": 4,
   "metadata": {},
   "outputs": [],
   "source": [
    "# Map Europe class\n",
    "EA = Base.classes.ea"
   ]
  },
  {
   "cell_type": "code",
   "execution_count": 5,
   "metadata": {},
   "outputs": [],
   "source": [
    "# Map North American class\n",
    "NA = Base.classes.na"
   ]
  },
  {
   "cell_type": "code",
   "execution_count": 6,
   "metadata": {},
   "outputs": [],
   "source": [
    "# create a session\n",
    "session = Session(engine)"
   ]
  },
  {
   "cell_type": "markdown",
   "metadata": {},
   "source": [
    "## Filtering Review"
   ]
  },
  {
   "cell_type": "markdown",
   "metadata": {},
   "source": [
    "Filters are the \"WHERE\" clause for your select statement. "
   ]
  },
  {
   "cell_type": "code",
   "execution_count": 7,
   "metadata": {},
   "outputs": [
    {
     "name": "stdout",
     "output_type": "stream",
     "text": [
      "Family: Antilocapridae, Genus: Antilocapra\n"
     ]
    }
   ],
   "source": [
    "# Filter North American mammals whose genus is \"Antilocapra\"\n",
    "# Query, loop over and print out animals.\n"
   ]
  },
  {
   "cell_type": "markdown",
   "metadata": {},
   "source": [
    "## Joins"
   ]
  },
  {
   "cell_type": "markdown",
   "metadata": {},
   "source": [
    "A SQL join combines columns from one or more tables in a relational database. \n",
    "\n",
    "It creates a set that can be saved as a table or used as it is. \n",
    "\n",
    "A JOIN is a means for combining columns from one (self-table) or more tables by using values common to each."
   ]
  },
  {
   "cell_type": "code",
   "execution_count": 8,
   "metadata": {},
   "outputs": [
    {
     "data": {
      "text/plain": [
       "['af', 'aus', 'ea', 'insular', 'na', 'oceanic', 'sa']"
      ]
     },
     "execution_count": 8,
     "metadata": {},
     "output_type": "execute_result"
    }
   ],
   "source": [
    "# Get the table names using `inspect()`.\n",
    "inspector = inspect(engine)\n",
    "inspector.get_table_names()"
   ]
  },
  {
   "cell_type": "code",
   "execution_count": 9,
   "metadata": {
    "scrolled": true
   },
   "outputs": [
    {
     "name": "stdout",
     "output_type": "stream",
     "text": [
      "id INTEGER\n",
      "continent TEXT\n",
      "status TEXT\n",
      "order TEXT\n",
      "family TEXT\n",
      "genus TEXT\n",
      "species TEXT\n",
      "log_mass FLOAT\n",
      "combined_mass FLOAT\n",
      "reference TEXT\n"
     ]
    }
   ],
   "source": [
    "# Get a list of column names and types\n"
   ]
  },
  {
   "cell_type": "code",
   "execution_count": 10,
   "metadata": {},
   "outputs": [
    {
     "name": "stderr",
     "output_type": "stream",
     "text": [
      "/var/folders/3f/8c_y2wf506376ylmkn2jrcvwds1jbr/T/ipykernel_50702/2510057721.py:3: SAWarning: SELECT statement has a cartesian product between FROM element(s) \"na\" and FROM element \"ea\".  Apply join condition(s) between each element to resolve.\n",
      "  session.query(EA.order, NA.order).limit(200).all()\n"
     ]
    },
    {
     "data": {
      "text/plain": [
       "[('Artiodactyla', 'Artiodactyla'),\n",
       " ('Artiodactyla', 'Artiodactyla'),\n",
       " ('Artiodactyla', 'Artiodactyla'),\n",
       " ('Artiodactyla', 'Artiodactyla'),\n",
       " ('Artiodactyla', 'Artiodactyla'),\n",
       " ('Artiodactyla', 'Artiodactyla'),\n",
       " ('Artiodactyla', 'Artiodactyla'),\n",
       " ('Artiodactyla', 'Artiodactyla'),\n",
       " ('Artiodactyla', 'Artiodactyla'),\n",
       " ('Artiodactyla', 'Artiodactyla'),\n",
       " ('Artiodactyla', 'Artiodactyla'),\n",
       " ('Artiodactyla', 'Artiodactyla'),\n",
       " ('Artiodactyla', 'Artiodactyla'),\n",
       " ('Artiodactyla', 'Artiodactyla'),\n",
       " ('Artiodactyla', 'Artiodactyla'),\n",
       " ('Artiodactyla', 'Artiodactyla'),\n",
       " ('Artiodactyla', 'Artiodactyla'),\n",
       " ('Artiodactyla', 'Artiodactyla'),\n",
       " ('Artiodactyla', 'Artiodactyla'),\n",
       " ('Artiodactyla', 'Artiodactyla'),\n",
       " ('Artiodactyla', 'Artiodactyla'),\n",
       " ('Artiodactyla', 'Artiodactyla'),\n",
       " ('Artiodactyla', 'Artiodactyla'),\n",
       " ('Artiodactyla', 'Artiodactyla'),\n",
       " ('Artiodactyla', 'Artiodactyla'),\n",
       " ('Artiodactyla', 'Artiodactyla'),\n",
       " ('Artiodactyla', 'Artiodactyla'),\n",
       " ('Artiodactyla', 'Artiodactyla'),\n",
       " ('Artiodactyla', 'Artiodactyla'),\n",
       " ('Artiodactyla', 'Artiodactyla'),\n",
       " ('Artiodactyla', 'Artiodactyla'),\n",
       " ('Artiodactyla', 'Artiodactyla'),\n",
       " ('Artiodactyla', 'Artiodactyla'),\n",
       " ('Artiodactyla', 'Artiodactyla'),\n",
       " ('Artiodactyla', 'Artiodactyla'),\n",
       " ('Artiodactyla', 'Artiodactyla'),\n",
       " ('Artiodactyla', 'Carnivora'),\n",
       " ('Artiodactyla', 'Carnivora'),\n",
       " ('Artiodactyla', 'Carnivora'),\n",
       " ('Artiodactyla', 'Carnivora'),\n",
       " ('Artiodactyla', 'Carnivora'),\n",
       " ('Artiodactyla', 'Carnivora'),\n",
       " ('Artiodactyla', 'Carnivora'),\n",
       " ('Artiodactyla', 'Carnivora'),\n",
       " ('Artiodactyla', 'Carnivora'),\n",
       " ('Artiodactyla', 'Carnivora'),\n",
       " ('Artiodactyla', 'Carnivora'),\n",
       " ('Artiodactyla', 'Carnivora'),\n",
       " ('Artiodactyla', 'Carnivora'),\n",
       " ('Artiodactyla', 'Carnivora'),\n",
       " ('Artiodactyla', 'Carnivora'),\n",
       " ('Artiodactyla', 'Carnivora'),\n",
       " ('Artiodactyla', 'Carnivora'),\n",
       " ('Artiodactyla', 'Carnivora'),\n",
       " ('Artiodactyla', 'Carnivora'),\n",
       " ('Artiodactyla', 'Carnivora'),\n",
       " ('Artiodactyla', 'Carnivora'),\n",
       " ('Artiodactyla', 'Carnivora'),\n",
       " ('Artiodactyla', 'Carnivora'),\n",
       " ('Artiodactyla', 'Carnivora'),\n",
       " ('Artiodactyla', 'Carnivora'),\n",
       " ('Artiodactyla', 'Carnivora'),\n",
       " ('Artiodactyla', 'Carnivora'),\n",
       " ('Artiodactyla', 'Carnivora'),\n",
       " ('Artiodactyla', 'Carnivora'),\n",
       " ('Artiodactyla', 'Carnivora'),\n",
       " ('Artiodactyla', 'Carnivora'),\n",
       " ('Artiodactyla', 'Carnivora'),\n",
       " ('Artiodactyla', 'Carnivora'),\n",
       " ('Artiodactyla', 'Carnivora'),\n",
       " ('Artiodactyla', 'Carnivora'),\n",
       " ('Artiodactyla', 'Carnivora'),\n",
       " ('Artiodactyla', 'Carnivora'),\n",
       " ('Artiodactyla', 'Carnivora'),\n",
       " ('Artiodactyla', 'Carnivora'),\n",
       " ('Artiodactyla', 'Carnivora'),\n",
       " ('Artiodactyla', 'Carnivora'),\n",
       " ('Artiodactyla', 'Carnivora'),\n",
       " ('Artiodactyla', 'Carnivora'),\n",
       " ('Artiodactyla', 'Carnivora'),\n",
       " ('Artiodactyla', 'Carnivora'),\n",
       " ('Artiodactyla', 'Carnivora'),\n",
       " ('Artiodactyla', 'Carnivora'),\n",
       " ('Artiodactyla', 'Carnivora'),\n",
       " ('Artiodactyla', 'Carnivora'),\n",
       " ('Artiodactyla', 'Carnivora'),\n",
       " ('Artiodactyla', 'Carnivora'),\n",
       " ('Artiodactyla', 'Carnivora'),\n",
       " ('Artiodactyla', 'Carnivora'),\n",
       " ('Artiodactyla', 'Carnivora'),\n",
       " ('Artiodactyla', 'Carnivora'),\n",
       " ('Artiodactyla', 'Carnivora'),\n",
       " ('Artiodactyla', 'Carnivora'),\n",
       " ('Artiodactyla', 'Carnivora'),\n",
       " ('Artiodactyla', 'Carnivora'),\n",
       " ('Artiodactyla', 'Carnivora'),\n",
       " ('Artiodactyla', 'Carnivora'),\n",
       " ('Artiodactyla', 'Carnivora'),\n",
       " ('Artiodactyla', 'Carnivora'),\n",
       " ('Artiodactyla', 'Carnivora'),\n",
       " ('Artiodactyla', 'Carnivora'),\n",
       " ('Artiodactyla', 'Carnivora'),\n",
       " ('Artiodactyla', 'Carnivora'),\n",
       " ('Artiodactyla', 'Carnivora'),\n",
       " ('Artiodactyla', 'Carnivora'),\n",
       " ('Artiodactyla', 'Carnivora'),\n",
       " ('Artiodactyla', 'Carnivora'),\n",
       " ('Artiodactyla', 'Carnivora'),\n",
       " ('Artiodactyla', 'Carnivora'),\n",
       " ('Artiodactyla', 'Carnivora'),\n",
       " ('Artiodactyla', 'Carnivora'),\n",
       " ('Artiodactyla', 'Chiroptera'),\n",
       " ('Artiodactyla', 'Chiroptera'),\n",
       " ('Artiodactyla', 'Chiroptera'),\n",
       " ('Artiodactyla', 'Chiroptera'),\n",
       " ('Artiodactyla', 'Chiroptera'),\n",
       " ('Artiodactyla', 'Chiroptera'),\n",
       " ('Artiodactyla', 'Chiroptera'),\n",
       " ('Artiodactyla', 'Chiroptera'),\n",
       " ('Artiodactyla', 'Chiroptera'),\n",
       " ('Artiodactyla', 'Chiroptera'),\n",
       " ('Artiodactyla', 'Chiroptera'),\n",
       " ('Artiodactyla', 'Chiroptera'),\n",
       " ('Artiodactyla', 'Chiroptera'),\n",
       " ('Artiodactyla', 'Chiroptera'),\n",
       " ('Artiodactyla', 'Chiroptera'),\n",
       " ('Artiodactyla', 'Chiroptera'),\n",
       " ('Artiodactyla', 'Chiroptera'),\n",
       " ('Artiodactyla', 'Chiroptera'),\n",
       " ('Artiodactyla', 'Chiroptera'),\n",
       " ('Artiodactyla', 'Chiroptera'),\n",
       " ('Artiodactyla', 'Chiroptera'),\n",
       " ('Artiodactyla', 'Chiroptera'),\n",
       " ('Artiodactyla', 'Chiroptera'),\n",
       " ('Artiodactyla', 'Chiroptera'),\n",
       " ('Artiodactyla', 'Chiroptera'),\n",
       " ('Artiodactyla', 'Chiroptera'),\n",
       " ('Artiodactyla', 'Chiroptera'),\n",
       " ('Artiodactyla', 'Chiroptera'),\n",
       " ('Artiodactyla', 'Chiroptera'),\n",
       " ('Artiodactyla', 'Chiroptera'),\n",
       " ('Artiodactyla', 'Chiroptera'),\n",
       " ('Artiodactyla', 'Chiroptera'),\n",
       " ('Artiodactyla', 'Chiroptera'),\n",
       " ('Artiodactyla', 'Chiroptera'),\n",
       " ('Artiodactyla', 'Chiroptera'),\n",
       " ('Artiodactyla', 'Chiroptera'),\n",
       " ('Artiodactyla', 'Chiroptera'),\n",
       " ('Artiodactyla', 'Chiroptera'),\n",
       " ('Artiodactyla', 'Chiroptera'),\n",
       " ('Artiodactyla', 'Chiroptera'),\n",
       " ('Artiodactyla', 'Chiroptera'),\n",
       " ('Artiodactyla', 'Chiroptera'),\n",
       " ('Artiodactyla', 'Chiroptera'),\n",
       " ('Artiodactyla', 'Chiroptera'),\n",
       " ('Artiodactyla', 'Chiroptera'),\n",
       " ('Artiodactyla', 'Chiroptera'),\n",
       " ('Artiodactyla', 'Chiroptera'),\n",
       " ('Artiodactyla', 'Chiroptera'),\n",
       " ('Artiodactyla', 'Chiroptera'),\n",
       " ('Artiodactyla', 'Chiroptera'),\n",
       " ('Artiodactyla', 'Chiroptera'),\n",
       " ('Artiodactyla', 'Chiroptera'),\n",
       " ('Artiodactyla', 'Chiroptera'),\n",
       " ('Artiodactyla', 'Chiroptera'),\n",
       " ('Artiodactyla', 'Chiroptera'),\n",
       " ('Artiodactyla', 'Chiroptera'),\n",
       " ('Artiodactyla', 'Chiroptera'),\n",
       " ('Artiodactyla', 'Chiroptera'),\n",
       " ('Artiodactyla', 'Chiroptera'),\n",
       " ('Artiodactyla', 'Chiroptera'),\n",
       " ('Artiodactyla', 'Chiroptera'),\n",
       " ('Artiodactyla', 'Chiroptera'),\n",
       " ('Artiodactyla', 'Chiroptera'),\n",
       " ('Artiodactyla', 'Chiroptera'),\n",
       " ('Artiodactyla', 'Chiroptera'),\n",
       " ('Artiodactyla', 'Chiroptera'),\n",
       " ('Artiodactyla', 'Chiroptera'),\n",
       " ('Artiodactyla', 'Chiroptera'),\n",
       " ('Artiodactyla', 'Chiroptera'),\n",
       " ('Artiodactyla', 'Chiroptera'),\n",
       " ('Artiodactyla', 'Chiroptera'),\n",
       " ('Artiodactyla', 'Chiroptera'),\n",
       " ('Artiodactyla', 'Chiroptera'),\n",
       " ('Artiodactyla', 'Chiroptera'),\n",
       " ('Artiodactyla', 'Chiroptera'),\n",
       " ('Artiodactyla', 'Chiroptera'),\n",
       " ('Artiodactyla', 'Chiroptera'),\n",
       " ('Artiodactyla', 'Chiroptera'),\n",
       " ('Artiodactyla', 'Chiroptera'),\n",
       " ('Artiodactyla', 'Chiroptera'),\n",
       " ('Artiodactyla', 'Chiroptera'),\n",
       " ('Artiodactyla', 'Chiroptera'),\n",
       " ('Artiodactyla', 'Chiroptera'),\n",
       " ('Artiodactyla', 'Chiroptera'),\n",
       " ('Artiodactyla', 'Chiroptera'),\n",
       " ('Artiodactyla', 'Chiroptera'),\n",
       " ('Artiodactyla', 'Chiroptera'),\n",
       " ('Artiodactyla', 'Chiroptera'),\n",
       " ('Artiodactyla', 'Chiroptera')]"
      ]
     },
     "execution_count": 10,
     "metadata": {},
     "output_type": "execute_result"
    }
   ],
   "source": [
    "# Join all the order names for the EA and NA classes. \n",
    "# This returns a warning so the query should be filtered on a common order name.\n"
   ]
  },
  {
   "cell_type": "code",
   "execution_count": 11,
   "metadata": {},
   "outputs": [
    {
     "name": "stdout",
     "output_type": "stream",
     "text": [
      "Artiodactyla Bovidae Antilope cervicapra\n",
      "\n",
      "Artiodactyla Antilocapridae Antilocapra americana\n",
      "Artiodactyla Bovidae Antilope cervicapra\n",
      "\n",
      "Artiodactyla Bovidae Bison bison\n",
      "Artiodactyla Bovidae Antilope cervicapra\n",
      "\n",
      "Artiodactyla Bovidae Oreamnos americanus\n",
      "Artiodactyla Bovidae Antilope cervicapra\n",
      "\n",
      "Artiodactyla Bovidae Ovibos moschatus\n",
      "Artiodactyla Bovidae Antilope cervicapra\n",
      "\n",
      "Artiodactyla Bovidae Ovis canadensis\n",
      "Artiodactyla Bovidae Antilope cervicapra\n",
      "\n",
      "Artiodactyla Bovidae Ovis dalli\n",
      "Artiodactyla Bovidae Antilope cervicapra\n",
      "\n",
      "Artiodactyla Cervidae Alces alces\n",
      "Artiodactyla Bovidae Antilope cervicapra\n",
      "\n",
      "Artiodactyla Cervidae Cervus elaphus\n",
      "Artiodactyla Bovidae Antilope cervicapra\n",
      "\n",
      "Artiodactyla Cervidae Mazama americana\n",
      "Artiodactyla Bovidae Antilope cervicapra\n",
      "\n",
      "Artiodactyla Cervidae Odocoileus hemionus\n"
     ]
    }
   ],
   "source": [
    "# Filter the the join query. \n"
   ]
  },
  {
   "cell_type": "code",
   "execution_count": 12,
   "metadata": {},
   "outputs": [
    {
     "name": "stdout",
     "output_type": "stream",
     "text": [
      "The European animal 'Bovidae Antilope cervicapra'belongs to the same order as the North American animal 'Antilocapridae Antilocapra americana'.\n",
      "The European animal 'Bovidae Antilope cervicapra'belongs to the same order as the North American animal 'Antilocapridae Capromeryx mexicana'.\n",
      "The European animal 'Bovidae Antilope cervicapra'belongs to the same order as the North American animal 'Antilocapridae Capromeryx minor'.\n",
      "The European animal 'Bovidae Antilope cervicapra'belongs to the same order as the North American animal 'Antilocapridae Stockoceros conklingi'.\n",
      "The European animal 'Bovidae Antilope cervicapra'belongs to the same order as the North American animal 'Antilocapridae Stockoceros onusrosagris'.\n",
      "The European animal 'Bovidae Antilope cervicapra'belongs to the same order as the North American animal 'Antilocapridae Tetrameryx shuleri'.\n",
      "The European animal 'Bovidae Antilope cervicapra'belongs to the same order as the North American animal 'Bovidae Bison bison'.\n",
      "The European animal 'Bovidae Antilope cervicapra'belongs to the same order as the North American animal 'Bovidae Bison latifrons'.\n",
      "The European animal 'Bovidae Antilope cervicapra'belongs to the same order as the North American animal 'Bovidae Bison priscus'.\n",
      "The European animal 'Bovidae Antilope cervicapra'belongs to the same order as the North American animal 'Bovidae Bootherium bombifrons'.\n"
     ]
    }
   ],
   "source": [
    "# Return all animals from EA and NA belonging to the same order.\n",
    "# This JOINs the data in the two tables together into a single dataset (here in the form of a tuple).\n",
    "# Note: We are going to limit the results to 10 for printing\n"
   ]
  }
 ],
 "metadata": {
  "kernelspec": {
   "display_name": "Python 3 (ipykernel)",
   "language": "python",
   "name": "python3"
  },
  "language_info": {
   "codemirror_mode": {
    "name": "ipython",
    "version": 3
   },
   "file_extension": ".py",
   "mimetype": "text/x-python",
   "name": "python",
   "nbconvert_exporter": "python",
   "pygments_lexer": "ipython3",
   "version": "3.10.4"
  },
  "name": "Ins_Joins.ipynb",
  "varInspector": {
   "cols": {
    "lenName": 16,
    "lenType": 16,
    "lenVar": 40
   },
   "kernels_config": {
    "python": {
     "delete_cmd_postfix": "",
     "delete_cmd_prefix": "del ",
     "library": "var_list.py",
     "varRefreshCmd": "print(var_dic_list())"
    },
    "r": {
     "delete_cmd_postfix": ") ",
     "delete_cmd_prefix": "rm(",
     "library": "var_list.r",
     "varRefreshCmd": "cat(var_dic_list()) "
    }
   },
   "types_to_exclude": [
    "module",
    "function",
    "builtin_function_or_method",
    "instance",
    "_Feature"
   ],
   "window_display": false
  }
 },
 "nbformat": 4,
 "nbformat_minor": 2
}
