{
 "cells": [
  {
   "cell_type": "code",
   "execution_count": 1,
   "metadata": {},
   "outputs": [
    {
     "name": "stdout",
     "output_type": "stream",
     "text": [
      "The director of Aliens is James Cameron\n",
      "The director of Sing is Garth Jennings, Christophe Lourdelet\n",
      "The director of Moana is Ron Clements, John Musker, Don Hall\n"
     ]
    }
   ],
   "source": [
    "# Dependencies\n",
    "import requests\n",
    "from config import api_key\n",
    "\n",
    "url = \"http://www.omdbapi.com/?apikey=\" + api_key + \"&t=\"\n",
    "\n",
    "movies = [\"Aliens\", \"Sing\", \"Moana\"]\n",
    "\n",
    "# Make a request to the OMDb API for each movie in the list.\n",
    "\n",
    "    # Print the director of each movie\n",
    "    \n",
    "    # Save the responses in another list\n",
    "    "
   ]
  },
  {
   "cell_type": "code",
   "execution_count": 2,
   "metadata": {},
   "outputs": [
    {
     "data": {
      "text/plain": [
       "[{'Title': 'Aliens',\n",
       "  'Year': '1986',\n",
       "  'Rated': 'R',\n",
       "  'Released': '18 Jul 1986',\n",
       "  'Runtime': '137 min',\n",
       "  'Genre': 'Action, Adventure, Sci-Fi',\n",
       "  'Director': 'James Cameron',\n",
       "  'Writer': 'James Cameron, David Giler, Walter Hill',\n",
       "  'Actors': 'Sigourney Weaver, Michael Biehn, Carrie Henn',\n",
       "  'Plot': 'Fifty-seven years after surviving an apocalyptic attack aboard her space vessel by merciless space creatures, Officer Ripley awakens from hyper-sleep and tries to warn anyone who will listen about the predators.',\n",
       "  'Language': 'English, Spanish',\n",
       "  'Country': 'United Kingdom, United States',\n",
       "  'Awards': 'Won 2 Oscars. 20 wins & 23 nominations total',\n",
       "  'Poster': 'https://m.media-amazon.com/images/M/MV5BYjE1ZDgxMTMtYzA3Ny00MjIwLWFiZTUtZDhhMjM3YzA3M2RkXkEyXkFqcGdeQXVyNzkwMjQ5NzM@._V1_SX300.jpg',\n",
       "  'Ratings': [{'Source': 'Internet Movie Database', 'Value': '8.4/10'},\n",
       "   {'Source': 'Rotten Tomatoes', 'Value': '98%'},\n",
       "   {'Source': 'Metacritic', 'Value': '84/100'}],\n",
       "  'Metascore': '84',\n",
       "  'imdbRating': '8.4',\n",
       "  'imdbVotes': '719,280',\n",
       "  'imdbID': 'tt0090605',\n",
       "  'Type': 'movie',\n",
       "  'DVD': '01 Jun 1999',\n",
       "  'BoxOffice': '$85,160,248',\n",
       "  'Production': 'N/A',\n",
       "  'Website': 'N/A',\n",
       "  'Response': 'True'},\n",
       " {'Title': 'Sing',\n",
       "  'Year': '2016',\n",
       "  'Rated': 'PG',\n",
       "  'Released': '21 Dec 2016',\n",
       "  'Runtime': '108 min',\n",
       "  'Genre': 'Animation, Comedy, Family',\n",
       "  'Director': 'Garth Jennings, Christophe Lourdelet',\n",
       "  'Writer': 'Garth Jennings',\n",
       "  'Actors': 'Matthew McConaughey, Reese Witherspoon, Seth MacFarlane',\n",
       "  'Plot': \"In a city of humanoid animals, a hustling theater impresario's attempt to save his theater with a singing competition becomes grander than he anticipates even as its finalists find that their lives will never be the same.\",\n",
       "  'Language': 'Japanese, Ukrainian, Persian, English',\n",
       "  'Country': 'Japan, United States, France',\n",
       "  'Awards': '3 wins & 25 nominations',\n",
       "  'Poster': 'https://m.media-amazon.com/images/M/MV5BMTYzODYzODU2Ml5BMl5BanBnXkFtZTgwNTc1MTA2NzE@._V1_SX300.jpg',\n",
       "  'Ratings': [{'Source': 'Internet Movie Database', 'Value': '7.1/10'},\n",
       "   {'Source': 'Rotten Tomatoes', 'Value': '71%'},\n",
       "   {'Source': 'Metacritic', 'Value': '59/100'}],\n",
       "  'Metascore': '59',\n",
       "  'imdbRating': '7.1',\n",
       "  'imdbVotes': '172,476',\n",
       "  'imdbID': 'tt3470600',\n",
       "  'Type': 'movie',\n",
       "  'DVD': '18 Apr 2017',\n",
       "  'BoxOffice': '$270,578,425',\n",
       "  'Production': 'N/A',\n",
       "  'Website': 'N/A',\n",
       "  'Response': 'True'},\n",
       " {'Title': 'Moana',\n",
       "  'Year': '2016',\n",
       "  'Rated': 'PG',\n",
       "  'Released': '23 Nov 2016',\n",
       "  'Runtime': '107 min',\n",
       "  'Genre': 'Animation, Adventure, Comedy',\n",
       "  'Director': 'Ron Clements, John Musker, Don Hall',\n",
       "  'Writer': 'Jared Bush, Ron Clements, John Musker',\n",
       "  'Actors': \"Auli'i Cravalho, Dwayne Johnson, Rachel House\",\n",
       "  'Plot': \"In Ancient Polynesia, when a terrible curse incurred by the Demigod Maui reaches Moana's island, she answers the Ocean's call to seek out the Demigod to set things right.\",\n",
       "  'Language': 'English, French',\n",
       "  'Country': 'United States',\n",
       "  'Awards': 'Nominated for 2 Oscars. 21 wins & 90 nominations total',\n",
       "  'Poster': 'https://m.media-amazon.com/images/M/MV5BMjI4MzU5NTExNF5BMl5BanBnXkFtZTgwNzY1MTEwMDI@._V1_SX300.jpg',\n",
       "  'Ratings': [{'Source': 'Internet Movie Database', 'Value': '7.6/10'},\n",
       "   {'Source': 'Rotten Tomatoes', 'Value': '95%'},\n",
       "   {'Source': 'Metacritic', 'Value': '81/100'}],\n",
       "  'Metascore': '81',\n",
       "  'imdbRating': '7.6',\n",
       "  'imdbVotes': '337,620',\n",
       "  'imdbID': 'tt3521164',\n",
       "  'Type': 'movie',\n",
       "  'DVD': '07 Mar 2017',\n",
       "  'BoxOffice': '$248,757,044',\n",
       "  'Production': 'N/A',\n",
       "  'Website': 'N/A',\n",
       "  'Response': 'True'}]"
      ]
     },
     "execution_count": 2,
     "metadata": {},
     "output_type": "execute_result"
    }
   ],
   "source": [
    "# Print the responses\n"
   ]
  },
  {
   "cell_type": "code",
   "execution_count": null,
   "metadata": {},
   "outputs": [],
   "source": []
  }
 ],
 "metadata": {
  "kernelspec": {
   "display_name": "Python 3 (ipykernel)",
   "language": "python",
   "name": "python3"
  },
  "language_info": {
   "codemirror_mode": {
    "name": "ipython",
    "version": 3
   },
   "file_extension": ".py",
   "mimetype": "text/x-python",
   "name": "python",
   "nbconvert_exporter": "python",
   "pygments_lexer": "ipython3",
   "version": "3.10.4"
  },
  "varInspector": {
   "cols": {
    "lenName": 16,
    "lenType": 16,
    "lenVar": 40
   },
   "kernels_config": {
    "python": {
     "delete_cmd_postfix": "",
     "delete_cmd_prefix": "del ",
     "library": "var_list.py",
     "varRefreshCmd": "print(var_dic_list())"
    },
    "r": {
     "delete_cmd_postfix": ") ",
     "delete_cmd_prefix": "rm(",
     "library": "var_list.r",
     "varRefreshCmd": "cat(var_dic_list()) "
    }
   },
   "types_to_exclude": [
    "module",
    "function",
    "builtin_function_or_method",
    "instance",
    "_Feature"
   ],
   "window_display": false
  }
 },
 "nbformat": 4,
 "nbformat_minor": 2
}
