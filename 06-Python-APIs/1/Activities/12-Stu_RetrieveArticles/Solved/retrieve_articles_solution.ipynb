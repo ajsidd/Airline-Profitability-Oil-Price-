{
 "cells": [
  {
   "cell_type": "code",
   "execution_count": 1,
   "metadata": {},
   "outputs": [],
   "source": [
    "# Dependencies\n",
    "import requests\n",
    "from config import api_key\n",
    "import time\n",
    "\n",
    "url = \"https://api.nytimes.com/svc/search/v2/articlesearch.json?\"\n",
    "\n",
    "# Store a search term\n",
    "query = \"obama\"\n",
    "\n",
    "# Search for articles published between a begin and end date\n",
    "begin_date = \"20160101\"\n",
    "end_date = \"20160130\"\n",
    "\n",
    "# Build URL\n",
    "query_url = f\"{url}api-key={api_key}&q={query}&begin_date={begin_date}&end_date={end_date}\""
   ]
  },
  {
   "cell_type": "code",
   "execution_count": 2,
   "metadata": {},
   "outputs": [
    {
     "name": "stdout",
     "output_type": "stream",
     "text": [
      "A snippet from the article: I will not campaign for, vote for or support any candidate, even in my own party, who does not support common-sense gun reform.\n",
      "---------------------------\n",
      "A snippet from the article: In presidential elections, opposites attract.\n",
      "---------------------------\n",
      "A snippet from the article: “We must confront the reality that around the world anti-Semitism is on the rise,” the president urged at an event to posthumously honor individuals who protected Jews during the Holocaust.\n",
      "---------------------------\n",
      "A snippet from the article: President Obama signed a presidential memorandum creating a White House task force on cancer.\n",
      "---------------------------\n",
      "A snippet from the article: President Obama hosted the emir of Qatar, Sheikh Tamim bin Hamad al-Thani, on Tuesday, and both said they were committed to defeating the Islamic State and other terrorist organizations.\n",
      "---------------------------\n",
      "A snippet from the article: To function properly, the clemency process needs to be removed from the grasp of the Justice Department.\n",
      "---------------------------\n",
      "A snippet from the article: The president seeks $4 billion to help states expand in an area he views as critical to young people’s success in a changing job market.\n",
      "---------------------------\n",
      "A snippet from the article: Katie Beirne Fallon, the president’s legislative director, has been credited with improving his relations with lawmakers on Capitol Hill.\n",
      "---------------------------\n",
      "A snippet from the article: The practice can lead to “devastating, lasting psychological consequences,” he said in an opinion article in The Washington Post.\n",
      "---------------------------\n",
      "A snippet from the article: President Obama, speaking at the North American International Auto Show in Detroit, expressed sympathy and concern for residents of Flint, Mich., where there has been lead contamination in the drinking water.\n",
      "---------------------------\n"
     ]
    }
   ],
   "source": [
    "# Retrieve articles\n",
    "articles = requests.get(query_url).json()\n",
    "articles_list = articles[\"response\"][\"docs\"]\n",
    "\n",
    "for article in articles_list:\n",
    "    print(f'A snippet from the article: {article[\"snippet\"]}')\n",
    "    print('---------------------------')"
   ]
  },
  {
   "cell_type": "code",
   "execution_count": 3,
   "metadata": {},
   "outputs": [],
   "source": [
    "# BONUS: How would we get 30 results? \n",
    "# HINT: Look up the page query param\n",
    "\n",
    "# Empty list for articles\n",
    "articles_list = []\n",
    "\n",
    "# loop through pages 0-2\n",
    "for page in range(0, 3):\n",
    "    query_url = f\"{url}api-key={api_key}&q={query}&begin_date={begin_date}&end_date={end_date}\"\n",
    "    # create query with page number\n",
    "    query_url = f\"{query_url}&page={str(page)}\"\n",
    "    articles = requests.get(query_url).json()\n",
    "    \n",
    "    # Add a one second interval between queries to stay within API query limits\n",
    "    time.sleep(1)\n",
    "    # loop through the response and append each article to the list\n",
    "    for article in articles[\"response\"][\"docs\"]:\n",
    "        articles_list.append(article)"
   ]
  },
  {
   "cell_type": "code",
   "execution_count": 4,
   "metadata": {},
   "outputs": [
    {
     "name": "stdout",
     "output_type": "stream",
     "text": [
      "I will not campaign for, vote for or support any candidate, even in my own party, who does not support common-sense gun reform.\n",
      "---------------------------\n",
      "In presidential elections, opposites attract.\n",
      "---------------------------\n",
      "“We must confront the reality that around the world anti-Semitism is on the rise,” the president urged at an event to posthumously honor individuals who protected Jews during the Holocaust.\n",
      "---------------------------\n",
      "President Obama signed a presidential memorandum creating a White House task force on cancer.\n",
      "---------------------------\n",
      "President Obama hosted the emir of Qatar, Sheikh Tamim bin Hamad al-Thani, on Tuesday, and both said they were committed to defeating the Islamic State and other terrorist organizations.\n",
      "---------------------------\n",
      "To function properly, the clemency process needs to be removed from the grasp of the Justice Department.\n",
      "---------------------------\n",
      "The president seeks $4 billion to help states expand in an area he views as critical to young people’s success in a changing job market.\n",
      "---------------------------\n",
      "Katie Beirne Fallon, the president’s legislative director, has been credited with improving his relations with lawmakers on Capitol Hill.\n",
      "---------------------------\n",
      "The practice can lead to “devastating, lasting psychological consequences,” he said in an opinion article in The Washington Post.\n",
      "---------------------------\n",
      "President Obama, speaking at the North American International Auto Show in Detroit, expressed sympathy and concern for residents of Flint, Mich., where there has been lead contamination in the drinking water.\n",
      "---------------------------\n",
      "The first time the president met with House Democrats, in 2009, there were 257 of them. Now there are 188. Some point a finger at him.\n",
      "---------------------------\n",
      "The president told Politico that politics were “meaner” than in 2008, and discussed the Democratic contest between Hillary Clinton and Bernie Sanders.\n",
      "---------------------------\n",
      "The president, who has spoken highly of Hillary Clinton recently, will meet with Senator Bernie Sanders, whom he does not have much of a relationship with.\n",
      "---------------------------\n",
      "Parker Sawyers and Tika Sumpter play the first couple — on their first date — in the Sundance favorite “Southside With You.”\n",
      "---------------------------\n",
      "After Senator Bernie Sanders and President Obama met for more than 45 minutes, the senator said the president was not trying to tip the scales against him.\n",
      "---------------------------\n",
      "Highlights from President Obama’s remarks at a town-hall style meeting in Baton Rouge, La, on Thursday.\n",
      "---------------------------\n",
      "Mr. Obama is to appear at the embassy to remember Americans who risked their lives to save Jews during the Holocaust, his latest move to show solidarity with Israel after a historic rupture over the Iran accord.\n",
      "---------------------------\n",
      "While not actually saying she would name Mr. Obama to the Supreme Court, Mrs. Clinton didn’t dismiss the idea either, saying “I love that.”\n",
      "---------------------------\n",
      "“Let me tell you, there are three things that are certain in life: death, taxes, and Michelle is not running for president.” — President Obama\n",
      "---------------------------\n",
      "When the president goes to the Illinois Capitol next month to speak, he will call for a less divisive politics, aides say.\n",
      "---------------------------\n",
      "On a visit to the United States, Prime Minister Malcolm Turnbull of Australia met with President Obama on Tuesday to discuss the fight against the Islamic State and terror.\n",
      "---------------------------\n",
      "Dire warnings from Republicans about the effect of President Obama’s policies on employment have simply not come true.\n",
      "---------------------------\n",
      "President Obama expressed relief and happiness that several Americans who had been detained in Iran were returning home after the completion of a nuclear agreement with Tehran.\n",
      "---------------------------\n",
      "The 2017 budget plan would make it easier for small businesses to form retirement savings plans for their workers.\n",
      "---------------------------\n",
      "The White House is working with Hillary Clinton’s campaign in ways large and small. Their two staffs consult on issues and the positions she takes on the president’s policy priorities.\n",
      "---------------------------\n",
      "The Iran case showed that the use of diplomacy was the best course.\n",
      "---------------------------\n",
      "The president delivered his final State of the Union address on Tuesday and discussed American innovation.\n",
      "---------------------------\n",
      "The president delivered his final State of the Union address on Tuesday and discussed economic growth.\n",
      "---------------------------\n",
      "The president delivered his final State of the Union address on Tuesday and discussed the threat posed by the Islamic State.\n",
      "---------------------------\n",
      "Seeking to stabilize her campaign, Mrs. Clinton linked herself repeatedly to the president in the Democratic debate.\n",
      "---------------------------\n"
     ]
    }
   ],
   "source": [
    "for article in articles_list:\n",
    "    print(article['snippet'])\n",
    "    print('---------------------------')"
   ]
  },
  {
   "cell_type": "code",
   "execution_count": null,
   "metadata": {},
   "outputs": [],
   "source": []
  }
 ],
 "metadata": {
  "kernelspec": {
   "display_name": "Python 3 (ipykernel)",
   "language": "python",
   "name": "python3"
  },
  "language_info": {
   "codemirror_mode": {
    "name": "ipython",
    "version": 3
   },
   "file_extension": ".py",
   "mimetype": "text/x-python",
   "name": "python",
   "nbconvert_exporter": "python",
   "pygments_lexer": "ipython3",
   "version": "3.10.4"
  },
  "varInspector": {
   "cols": {
    "lenName": 16,
    "lenType": 16,
    "lenVar": 40
   },
   "kernels_config": {
    "python": {
     "delete_cmd_postfix": "",
     "delete_cmd_prefix": "del ",
     "library": "var_list.py",
     "varRefreshCmd": "print(var_dic_list())"
    },
    "r": {
     "delete_cmd_postfix": ") ",
     "delete_cmd_prefix": "rm(",
     "library": "var_list.r",
     "varRefreshCmd": "cat(var_dic_list()) "
    }
   },
   "types_to_exclude": [
    "module",
    "function",
    "builtin_function_or_method",
    "instance",
    "_Feature"
   ],
   "window_display": false
  }
 },
 "nbformat": 4,
 "nbformat_minor": 2
}
