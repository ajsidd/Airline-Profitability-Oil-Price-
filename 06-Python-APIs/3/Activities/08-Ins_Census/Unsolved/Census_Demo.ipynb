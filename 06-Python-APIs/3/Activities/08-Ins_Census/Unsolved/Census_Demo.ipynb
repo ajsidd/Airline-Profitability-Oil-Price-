{
 "cells": [
  {
   "cell_type": "markdown",
   "metadata": {},
   "source": [
    "# U.S. Census Demo"
   ]
  },
  {
   "cell_type": "code",
   "execution_count": 1,
   "metadata": {
    "tags": []
   },
   "outputs": [],
   "source": [
    "# Dependencies\n",
    "import requests\n",
    "import pandas as pd\n",
    "from census import Census"
   ]
  },
  {
   "cell_type": "code",
   "execution_count": 2,
   "metadata": {},
   "outputs": [],
   "source": [
    "# Import U.S. Census API Key\n",
    "from config import api_key\n",
    "\n",
    "# Create an instance of the Census library\n",
    "c = Census(\n",
    "    api_key,\n",
    "    year = 2013\n",
    ")"
   ]
  },
  {
   "cell_type": "markdown",
   "metadata": {},
   "source": [
    "## Retrieve data from the U.S. Census using the Census library\n",
    "\n",
    "References:\n",
    "\n",
    "* Review the following page to review the Python library documentation: <https://github.com/CommerceDataService/census-wrapper>\n",
    "\n",
    "* Review the following page to learn more about the data labels: <https://gist.github.com/afhaque/60558290d6efd892351c4b64e5c01e9b>"
   ]
  },
  {
   "cell_type": "code",
   "execution_count": 3,
   "metadata": {},
   "outputs": [
    {
     "name": "stdout",
     "output_type": "stream",
     "text": [
      "Number of rows in the DataFrame: 33120\n"
     ]
    },
    {
     "data": {
      "text/html": [
       "<div>\n",
       "<style scoped>\n",
       "    .dataframe tbody tr th:only-of-type {\n",
       "        vertical-align: middle;\n",
       "    }\n",
       "\n",
       "    .dataframe tbody tr th {\n",
       "        vertical-align: top;\n",
       "    }\n",
       "\n",
       "    .dataframe thead th {\n",
       "        text-align: right;\n",
       "    }\n",
       "</style>\n",
       "<table border=\"1\" class=\"dataframe\">\n",
       "  <thead>\n",
       "    <tr style=\"text-align: right;\">\n",
       "      <th></th>\n",
       "      <th>Zipcode</th>\n",
       "      <th>Population</th>\n",
       "      <th>Median Age</th>\n",
       "      <th>Household Income</th>\n",
       "      <th>Per Capita Income</th>\n",
       "      <th>Poverty Count</th>\n",
       "      <th>Poverty Rate</th>\n",
       "    </tr>\n",
       "  </thead>\n",
       "  <tbody>\n",
       "    <tr>\n",
       "      <th>0</th>\n",
       "      <td>01832</td>\n",
       "      <td>22121.0</td>\n",
       "      <td>38.5</td>\n",
       "      <td>57833.0</td>\n",
       "      <td>29014.0</td>\n",
       "      <td>2412.0</td>\n",
       "      <td>10.903666</td>\n",
       "    </tr>\n",
       "    <tr>\n",
       "      <th>1</th>\n",
       "      <td>01833</td>\n",
       "      <td>8295.0</td>\n",
       "      <td>42.4</td>\n",
       "      <td>107775.0</td>\n",
       "      <td>43297.0</td>\n",
       "      <td>191.0</td>\n",
       "      <td>2.302592</td>\n",
       "    </tr>\n",
       "    <tr>\n",
       "      <th>2</th>\n",
       "      <td>01834</td>\n",
       "      <td>6675.0</td>\n",
       "      <td>46.1</td>\n",
       "      <td>97463.0</td>\n",
       "      <td>40222.0</td>\n",
       "      <td>146.0</td>\n",
       "      <td>2.187266</td>\n",
       "    </tr>\n",
       "    <tr>\n",
       "      <th>3</th>\n",
       "      <td>01835</td>\n",
       "      <td>13527.0</td>\n",
       "      <td>37.1</td>\n",
       "      <td>72228.0</td>\n",
       "      <td>31429.0</td>\n",
       "      <td>1153.0</td>\n",
       "      <td>8.523693</td>\n",
       "    </tr>\n",
       "    <tr>\n",
       "      <th>4</th>\n",
       "      <td>01840</td>\n",
       "      <td>4547.0</td>\n",
       "      <td>36.8</td>\n",
       "      <td>18261.0</td>\n",
       "      <td>14758.0</td>\n",
       "      <td>1798.0</td>\n",
       "      <td>39.542556</td>\n",
       "    </tr>\n",
       "  </tbody>\n",
       "</table>\n",
       "</div>"
      ],
      "text/plain": [
       "  Zipcode  Population  Median Age  Household Income  Per Capita Income  \\\n",
       "0   01832     22121.0        38.5           57833.0            29014.0   \n",
       "1   01833      8295.0        42.4          107775.0            43297.0   \n",
       "2   01834      6675.0        46.1           97463.0            40222.0   \n",
       "3   01835     13527.0        37.1           72228.0            31429.0   \n",
       "4   01840      4547.0        36.8           18261.0            14758.0   \n",
       "\n",
       "   Poverty Count  Poverty Rate  \n",
       "0         2412.0     10.903666  \n",
       "1          191.0      2.302592  \n",
       "2          146.0      2.187266  \n",
       "3         1153.0      8.523693  \n",
       "4         1798.0     39.542556  "
      ]
     },
     "execution_count": 3,
     "metadata": {},
     "output_type": "execute_result"
    }
   ],
   "source": [
    "# Run Census Search to retrieve data on all zip codes (2013 ACS5 Census)\n",
    "\n",
    "\n",
    "# Convert to DataFrame\n",
    "\n",
    "\n",
    "# Column renaming\n",
    "\n",
    "\n",
    "# Add a Poverty Rate column (Poverty Count / Population)\n",
    "\n",
    "\n",
    "# Configure the final DataFrame\n",
    "\n",
    "\n",
    "# Display DataFrame length and sample data\n"
   ]
  },
  {
   "cell_type": "code",
   "execution_count": 4,
   "metadata": {
    "tags": []
   },
   "outputs": [],
   "source": [
    "# Save the DataFrame as a CSV\n",
    "# Note: To avoid any issues later, use encoding=\"utf-8\"\n"
   ]
  },
  {
   "cell_type": "code",
   "execution_count": null,
   "metadata": {},
   "outputs": [],
   "source": []
  }
 ],
 "metadata": {
  "anaconda-cloud": {},
  "kernelspec": {
   "display_name": "Python 3 (ipykernel)",
   "language": "python",
   "name": "python3"
  },
  "language_info": {
   "codemirror_mode": {
    "name": "ipython",
    "version": 3
   },
   "file_extension": ".py",
   "mimetype": "text/x-python",
   "name": "python",
   "nbconvert_exporter": "python",
   "pygments_lexer": "ipython3",
   "version": "3.10.4"
  },
  "latex_envs": {
   "LaTeX_envs_menu_present": true,
   "autoclose": false,
   "autocomplete": true,
   "bibliofile": "biblio.bib",
   "cite_by": "apalike",
   "current_citInitial": 1,
   "eqLabelWithNumbers": true,
   "eqNumInitial": 1,
   "hotkeys": {
    "equation": "Ctrl-E",
    "itemize": "Ctrl-I"
   },
   "labels_anchors": false,
   "latex_user_defs": false,
   "report_style_numbering": false,
   "user_envs_cfg": false
  }
 },
 "nbformat": 4,
 "nbformat_minor": 4
}
